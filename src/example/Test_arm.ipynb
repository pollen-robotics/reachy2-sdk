{
 "cells": [
  {
   "cell_type": "code",
   "execution_count": 1,
   "id": "f2d8265b",
   "metadata": {},
   "outputs": [],
   "source": [
    "from reachy2_sdk import ReachySDK\n",
    "import time"
   ]
  },
  {
   "cell_type": "code",
   "execution_count": 2,
   "id": "a0c2d4ab",
   "metadata": {},
   "outputs": [
    {
     "data": {
      "text/plain": [
       "True"
      ]
     },
     "execution_count": 2,
     "metadata": {},
     "output_type": "execute_result"
    }
   ],
   "source": [
    "reachy = ReachySDK('192.168.1.179')\n",
    "reachy.turn_on()"
   ]
  },
  {
   "cell_type": "code",
   "execution_count": 3,
   "id": "f135ac9a",
   "metadata": {},
   "outputs": [
    {
     "data": {
      "text/plain": [
       "{'r_arm_shoulder_pitch': <OrbitaJoint axis_type=\"pitch\" present_position=-0.0 goal_position=0.0 >,\n",
       " 'r_arm_shoulder_roll': <OrbitaJoint axis_type=\"roll\" present_position=0.0 goal_position=0.0 >,\n",
       " 'r_arm_elbow_yaw': <OrbitaJoint axis_type=\"yaw\" present_position=-0.0 goal_position=0.0 >,\n",
       " 'r_arm_elbow_pitch': <OrbitaJoint axis_type=\"pitch\" present_position=0.0 goal_position=0.0 >,\n",
       " 'r_arm_wrist_roll': <OrbitaJoint axis_type=\"roll\" present_position=0.02 goal_position=0.0 >,\n",
       " 'r_arm_wrist_pitch': <OrbitaJoint axis_type=\"pitch\" present_position=0.07 goal_position=-0.0 >,\n",
       " 'r_arm_wrist_yaw': <OrbitaJoint axis_type=\"yaw\" present_position=-0.01 goal_position=-0.0 >,\n",
       " 'l_arm_shoulder_pitch': <OrbitaJoint axis_type=\"pitch\" present_position=0.0 goal_position=0.0 >,\n",
       " 'l_arm_shoulder_roll': <OrbitaJoint axis_type=\"roll\" present_position=0.0 goal_position=0.0 >,\n",
       " 'l_arm_elbow_yaw': <OrbitaJoint axis_type=\"yaw\" present_position=-0.0 goal_position=0.0 >,\n",
       " 'l_arm_elbow_pitch': <OrbitaJoint axis_type=\"pitch\" present_position=-0.0 goal_position=0.0 >,\n",
       " 'l_arm_wrist_roll': <OrbitaJoint axis_type=\"roll\" present_position=-0.0 goal_position=0.0 >,\n",
       " 'l_arm_wrist_pitch': <OrbitaJoint axis_type=\"pitch\" present_position=0.0 goal_position=0.0 >,\n",
       " 'l_arm_wrist_yaw': <OrbitaJoint axis_type=\"yaw\" present_position=0.01 goal_position=-0.0 >,\n",
       " 'head_roll': <OrbitaJoint axis_type=\"roll\" present_position=-0.01 goal_position=-0.0 >,\n",
       " 'head_pitch': <OrbitaJoint axis_type=\"pitch\" present_position=-0.0 goal_position=0.0 >,\n",
       " 'head_yaw': <OrbitaJoint axis_type=\"yaw\" present_position=0.01 goal_position=0.0 >}"
      ]
     },
     "execution_count": 3,
     "metadata": {},
     "output_type": "execute_result"
    }
   ],
   "source": [
    "reachy.joints"
   ]
  },
  {
   "cell_type": "code",
   "execution_count": 4,
   "id": "3c513e13",
   "metadata": {},
   "outputs": [
    {
     "data": {
      "text/plain": [
       "{'r_arm_shoulder': <Orbita2d compliant=False joints=\n",
       " \t<OrbitaJoint axis_type=\"pitch\" present_position=-0.0 goal_position=0.0 >\n",
       " \t<OrbitaJoint axis_type=\"roll\" present_position=0.0 goal_position=0.0 >\n",
       " >,\n",
       " 'r_arm_elbow': <Orbita2d compliant=False joints=\n",
       " \t<OrbitaJoint axis_type=\"yaw\" present_position=-0.0 goal_position=0.0 >\n",
       " \t<OrbitaJoint axis_type=\"pitch\" present_position=0.0 goal_position=0.0 >\n",
       " >,\n",
       " 'r_arm_wrist': <Orbita3d compliant=False joints=\n",
       " \t<OrbitaJoint axis_type=\"roll\" present_position=-0.03 goal_position=0.0 >\n",
       " \t<OrbitaJoint axis_type=\"pitch\" present_position=0.02 goal_position=-0.0 >\n",
       " \t<OrbitaJoint axis_type=\"yaw\" present_position=0.01 goal_position=-0.0 >\n",
       " >,\n",
       " 'l_arm_shoulder': <Orbita2d compliant=False joints=\n",
       " \t<OrbitaJoint axis_type=\"pitch\" present_position=0.0 goal_position=0.0 >\n",
       " \t<OrbitaJoint axis_type=\"roll\" present_position=0.0 goal_position=0.0 >\n",
       " >,\n",
       " 'l_arm_elbow': <Orbita2d compliant=False joints=\n",
       " \t<OrbitaJoint axis_type=\"yaw\" present_position=-0.0 goal_position=0.0 >\n",
       " \t<OrbitaJoint axis_type=\"pitch\" present_position=-0.0 goal_position=0.0 >\n",
       " >,\n",
       " 'l_arm_wrist': <Orbita3d compliant=False joints=\n",
       " \t<OrbitaJoint axis_type=\"roll\" present_position=0.0 goal_position=0.0 >\n",
       " \t<OrbitaJoint axis_type=\"pitch\" present_position=-0.0 goal_position=0.0 >\n",
       " \t<OrbitaJoint axis_type=\"yaw\" present_position=-0.0 goal_position=-0.0 >\n",
       " >,\n",
       " 'head_neck': <Orbita3d compliant=False joints=\n",
       " \t<OrbitaJoint axis_type=\"roll\" present_position=-0.0 goal_position=-0.0 >\n",
       " \t<OrbitaJoint axis_type=\"pitch\" present_position=0.0 goal_position=0.0 >\n",
       " \t<OrbitaJoint axis_type=\"yaw\" present_position=-0.0 goal_position=0.0 >\n",
       " >}"
      ]
     },
     "execution_count": 4,
     "metadata": {},
     "output_type": "execute_result"
    }
   ],
   "source": [
    "reachy.actuators"
   ]
  },
  {
   "cell_type": "code",
   "execution_count": 11,
   "id": "1ecd0843",
   "metadata": {},
   "outputs": [
    {
     "data": {
      "text/plain": [
       "GoToHomeId(head=id: 31\n",
       ", r_arm=id: 32\n",
       ", l_arm=id: 33\n",
       ")"
      ]
     },
     "execution_count": 11,
     "metadata": {},
     "output_type": "execute_result"
    }
   ],
   "source": [
    "reachy.r_arm.goto_joints([0, 0, 0, -90, 0, 0, 0], duration=2)\n",
    "reachy.l_arm.goto_joints([0, 0, 0, -90, 0, 0, 0], duration=2)\n",
    "\n",
    "reachy.home()"
   ]
  },
  {
   "cell_type": "code",
   "execution_count": 16,
   "id": "e2513a18",
   "metadata": {},
   "outputs": [
    {
     "data": {
      "text/plain": [
       "GoToHomeId(head=id: 55\n",
       ", r_arm=id: 56\n",
       ", l_arm=id: 57\n",
       ")"
      ]
     },
     "execution_count": 16,
     "metadata": {},
     "output_type": "execute_result"
    }
   ],
   "source": [
    "r_move = reachy.r_arm.goto_joints([0, 0, 0, -90, 0, 0, 0], duration=2)\n",
    "\n",
    "while not reachy.is_goto_finished(r_move):\n",
    "    time.sleep(0.1)\n",
    "\n",
    "reachy.l_arm.goto_joints([0, 0, 0, -90, 0, 0, 0], duration=2)\n",
    "time.sleep(1)\n",
    "\n",
    "reachy.home(wait_for_goto_end=False)"
   ]
  },
  {
   "cell_type": "code",
   "execution_count": 22,
   "id": "cb57d5a8",
   "metadata": {},
   "outputs": [
    {
     "data": {
      "text/plain": [
       "GoToHomeId(head=id: 79\n",
       ", r_arm=id: 80\n",
       ", l_arm=id: 81\n",
       ")"
      ]
     },
     "execution_count": 22,
     "metadata": {},
     "output_type": "execute_result"
    }
   ],
   "source": [
    "reachy.r_arm.goto_joints([0, 0, 0, -90, 0, 0, 0], duration=2)\n",
    "reachy.r_arm.goto_joints([0, 0, -20, -90, 0, 0, 0], duration=2, interpolation_mode='linear')\n",
    "reachy.l_arm.goto_joints([0, 0, 0, -90, 0, 0, 0], duration=3)\n",
    "\n",
    "reachy.home()"
   ]
  },
  {
   "cell_type": "code",
   "execution_count": 24,
   "id": "93a17e38",
   "metadata": {},
   "outputs": [],
   "source": [
    "reachy.l_arm.gripper.close()\n",
    "time.sleep(1)\n",
    "reachy.l_arm.gripper.open()"
   ]
  },
  {
   "cell_type": "code",
   "execution_count": 7,
   "id": "70f9fb46",
   "metadata": {},
   "outputs": [
    {
     "data": {
      "text/plain": [
       "array([[-1.96713863e-04,  2.58819045e-01, -9.65925806e-01,\n",
       "         3.19151806e-01],\n",
       "       [ 5.27093207e-05,  9.65925826e-01,  2.58819040e-01,\n",
       "         9.29487649e-02],\n",
       "       [ 9.99999979e-01,  0.00000000e+00, -2.03653177e-04,\n",
       "        -2.54922612e-01],\n",
       "       [ 0.00000000e+00,  0.00000000e+00,  0.00000000e+00,\n",
       "         1.00000000e+00]])"
      ]
     },
     "execution_count": 7,
     "metadata": {},
     "output_type": "execute_result"
    }
   ],
   "source": [
    "reachy.l_arm.forward_kinematics([0, 0, 0, -90, 0, 0, 0])"
   ]
  },
  {
   "cell_type": "code",
   "execution_count": 8,
   "id": "368804d5",
   "metadata": {},
   "outputs": [
    {
     "data": {
      "text/plain": [
       "[0.0, 0.0, -0.003, -0.001, 0.019, -0.016, 0.002]"
      ]
     },
     "execution_count": 8,
     "metadata": {},
     "output_type": "execute_result"
    }
   ],
   "source": [
    "reachy.l_arm.get_joints_positions()"
   ]
  }
 ],
 "metadata": {
  "kernelspec": {
   "display_name": "Python 3 (ipykernel)",
   "language": "python",
   "name": "python3"
  },
  "language_info": {
   "codemirror_mode": {
    "name": "ipython",
    "version": 3
   },
   "file_extension": ".py",
   "mimetype": "text/x-python",
   "name": "python",
   "nbconvert_exporter": "python",
   "pygments_lexer": "ipython3",
   "version": "3.10.12"
  }
 },
 "nbformat": 4,
 "nbformat_minor": 5
}
