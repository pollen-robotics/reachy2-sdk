{
 "cells": [
  {
   "cell_type": "markdown",
   "id": "748878af",
   "metadata": {},
   "source": [
    "# Head control\n",
    "\n",
    "Reachy 2's head is mounted on an Orbita3D actuator, referred to as the **neck** actuator, giving 3 degrees of freedom to control the head orientation.  \n",
    "> Note : the antennas are not motorized for the moment\n",
    "\n",
    "Before starting to control the head, connect to your Reachy and turn it on. As in the other pages:"
   ]
  },
  {
   "cell_type": "markdown",
   "id": "923aca0f",
   "metadata": {},
   "source": [
    "## Initialize your robot\n",
    "\n",
    "First connect to your robot:"
   ]
  },
  {
   "cell_type": "code",
   "execution_count": 3,
   "id": "588cbcb7",
   "metadata": {},
   "outputs": [
    {
     "name": "stderr",
     "output_type": "stream",
     "text": [
      "Cameras not initialized.\n"
     ]
    }
   ],
   "source": [
    "from reachy2_sdk import ReachySDK\n",
    "\n",
    "reachy = ReachySDK(host='localhost')  # Replace with the actual IP"
   ]
  },
  {
   "cell_type": "markdown",
   "id": "3e47ec7d",
   "metadata": {},
   "source": [
    "Let's check what contains the head part:"
   ]
  },
  {
   "cell_type": "code",
   "execution_count": 5,
   "id": "f2d8265b",
   "metadata": {},
   "outputs": [
    {
     "data": {
      "text/plain": [
       "{'neck.roll': <OrbitaJoint axis_type=\"roll\" present_position=20.0 goal_position=20.0 >,\n",
       "'neck.pitch': <OrbitaJoint axis_type=\"pitch\" present_position=30.0 goal_position=30.0 >,\n",
       "'neck.yaw': <OrbitaJoint axis_type=\"yaw\" present_position=-10.0 goal_position=-10.0 >}"
      ]
     },
     "execution_count": 5,
     "metadata": {},
     "output_type": "execute_result"
    }
   ],
   "source": [
    "reachy.head.joints"
   ]
  },
  {
   "cell_type": "markdown",
   "id": "f8dc8c30",
   "metadata": {},
   "source": [
    "The head is composed of **three joints**:\n",
    "- neck.roll\n",
    "- neck.pitch\n",
    "- neck.yaw\n",
    "\n",
    "All joints belong to the same Orbita3D actuator, referred to as the **neck**.\n",
    "\n",
    "To start, we need to turn the head on:"
   ]
  },
  {
   "cell_type": "code",
   "execution_count": 6,
   "id": "a0c2d4ab",
   "metadata": {},
   "outputs": [],
   "source": [
    "reachy.head.turn_on()"
   ]
  },
  {
   "cell_type": "markdown",
   "id": "c63162f5",
   "metadata": {},
   "source": [
    "You could of course turn on the whole robot by calling `reachy.turn_on()` directly."
   ]
  },
  {
   "cell_type": "markdown",
   "id": "edf24ed3",
   "metadata": {},
   "source": [
    "## Head moves"
   ]
  },
  {
   "cell_type": "markdown",
   "id": "ee5315dc",
   "metadata": {},
   "source": [
    "There are several ways to control the head movements:\n",
    "- using the `look_at()`, `rotate_to()` and `orient()` methods, called directly at the **head** level. These methods works as in the moves_introduction example\n",
    "- controlling the joints goal positions, namely **reachy.head.neck.roll**, **reachy.head.neck.pitch** and **reachy.head.neck.yaw**."
   ]
  },
  {
   "cell_type": "markdown",
   "id": "55608fbc",
   "metadata": {},
   "source": [
    "## Head moves methods"
   ]
  },
  {
   "cell_type": "markdown",
   "id": "b9402c92",
   "metadata": {},
   "source": [
    "### look_at()\n",
    "\n",
    "You can use the `look_at()` function to make the head look at a specific point in space. This point must be given in Reachy 2's coordinate system in **meters**. The coordinate system is the one we have seen previously:\n",
    "\n",
    "* the X axis corresponds to the foward arrow,\n",
    "* the Y axis corresponds to the right to left arrow,\n",
    "* the Z axis corresponds to the up arrow.\n",
    "\n",
    "The origin of this coordinate system is located in the upper part of the robot trunk.\n",
    "\n",
    "If you want Reachy to look forward you can send it the following."
   ]
  },
  {
   "cell_type": "code",
   "execution_count": 7,
   "id": "6744e69c",
   "metadata": {},
   "outputs": [
    {
     "data": {
      "text/plain": [
       "id: 24"
      ]
     },
     "execution_count": 7,
     "metadata": {},
     "output_type": "execute_result"
    }
   ],
   "source": [
    "reachy.head.look_at(x=0.5, y=0, z=0.2, duration=1.0)"
   ]
  },
  {
   "cell_type": "markdown",
   "id": "f43c8934",
   "metadata": {},
   "source": [
    "You can use multiple *look_at* to chain head movements, or even chain them with the `rotate_to()` and `orient()` functions described below. As seen in the moves_introduction, the commands on the head will be stacked.\n",
    "For example:"
   ]
  },
  {
   "cell_type": "code",
   "execution_count": 8,
   "id": "b5373062",
   "metadata": {},
   "outputs": [],
   "source": [
    "import time\n",
    "\n",
    "look_right = reachy.head.look_at(x=0.5, y=-0.5, z=0.1, duration=1.0)\n",
    "look_down = reachy.head.look_at(x=0.5, y=0, z=-0.4, duration=1.0)\n",
    "look_left = reachy.head.look_at(x=0.5, y=0.3, z=-0.3, duration=1.0)\n",
    "look_front = reachy.head.look_at(x=0.5, y=0, z=0, duration=1.0)"
   ]
  },
  {
   "cell_type": "markdown",
   "id": "b372f164",
   "metadata": {},
   "source": [
    "The best way to understand how to use the *look_at* is to play with it. Picture a position you would like Reachy's head to be in, guess a point which could match for the *look_at* and check if you got it right!\n",
    "\n",
    "#### End effector followed by head\n",
    "\n",
    "Another cool thing is that we can combine Reachy's kinematics with the *look_at* so that Reachy's head follows its hand!"
   ]
  },
  {
   "cell_type": "code",
   "execution_count": 9,
   "id": "d5fdf5f4",
   "metadata": {},
   "outputs": [
    {
     "ename": "KeyboardInterrupt",
     "evalue": "",
     "output_type": "error",
     "traceback": [
      "\u001b[0;31m---------------------------------------------------------------------------\u001b[0m",
      "\u001b[0;31mKeyboardInterrupt\u001b[0m                         Traceback (most recent call last)",
      "\u001b[0;32m/tmp/ipykernel_8566/4069850191.py\u001b[0m in \u001b[0;36m<module>\u001b[0;34m\u001b[0m\n\u001b[1;32m      5\u001b[0m \u001b[0;34m\u001b[0m\u001b[0m\n\u001b[1;32m      6\u001b[0m \u001b[0;32mwhile\u001b[0m \u001b[0;32mTrue\u001b[0m\u001b[0;34m:\u001b[0m\u001b[0;34m\u001b[0m\u001b[0;34m\u001b[0m\u001b[0m\n\u001b[0;32m----> 7\u001b[0;31m     \u001b[0mx\u001b[0m\u001b[0;34m,\u001b[0m \u001b[0my\u001b[0m\u001b[0;34m,\u001b[0m \u001b[0mz\u001b[0m \u001b[0;34m=\u001b[0m \u001b[0mreachy\u001b[0m\u001b[0;34m.\u001b[0m\u001b[0mr_arm\u001b[0m\u001b[0;34m.\u001b[0m\u001b[0mforward_kinematics\u001b[0m\u001b[0;34m(\u001b[0m\u001b[0;34m)\u001b[0m\u001b[0;34m[\u001b[0m\u001b[0;34m:\u001b[0m\u001b[0;36m3\u001b[0m\u001b[0;34m,\u001b[0m \u001b[0;34m-\u001b[0m\u001b[0;36m1\u001b[0m\u001b[0;34m]\u001b[0m\u001b[0;34m\u001b[0m\u001b[0;34m\u001b[0m\u001b[0m\n\u001b[0m\u001b[1;32m      8\u001b[0m     \u001b[0mreachy\u001b[0m\u001b[0;34m.\u001b[0m\u001b[0mhead\u001b[0m\u001b[0;34m.\u001b[0m\u001b[0mlook_at\u001b[0m\u001b[0;34m(\u001b[0m\u001b[0mx\u001b[0m\u001b[0;34m=\u001b[0m\u001b[0mx\u001b[0m\u001b[0;34m,\u001b[0m \u001b[0my\u001b[0m\u001b[0;34m=\u001b[0m\u001b[0my\u001b[0m\u001b[0;34m,\u001b[0m \u001b[0mz\u001b[0m\u001b[0;34m=\u001b[0m\u001b[0mz\u001b[0m\u001b[0;34m,\u001b[0m \u001b[0mduration\u001b[0m\u001b[0;34m=\u001b[0m\u001b[0;36m0.1\u001b[0m\u001b[0;34m)\u001b[0m\u001b[0;34m\u001b[0m\u001b[0;34m\u001b[0m\u001b[0m\n",
      "\u001b[0;32m~/dev/reachy2-sdk/src/reachy2_sdk/parts/arm.py\u001b[0m in \u001b[0;36mforward_kinematics\u001b[0;34m(self, joints_positions, degrees)\u001b[0m\n\u001b[1;32m    199\u001b[0m             \u001b[0mreq_params\u001b[0m\u001b[0;34m[\u001b[0m\u001b[0;34m\"position\"\u001b[0m\u001b[0;34m]\u001b[0m \u001b[0;34m=\u001b[0m \u001b[0mlist_to_arm_position\u001b[0m\u001b[0;34m(\u001b[0m\u001b[0mjoints_positions\u001b[0m\u001b[0;34m,\u001b[0m \u001b[0mdegrees\u001b[0m\u001b[0;34m)\u001b[0m\u001b[0;34m\u001b[0m\u001b[0;34m\u001b[0m\u001b[0m\n\u001b[1;32m    200\u001b[0m         \u001b[0mreq\u001b[0m \u001b[0;34m=\u001b[0m \u001b[0mArmFKRequest\u001b[0m\u001b[0;34m(\u001b[0m\u001b[0;34m**\u001b[0m\u001b[0mreq_params\u001b[0m\u001b[0;34m)\u001b[0m\u001b[0;34m\u001b[0m\u001b[0;34m\u001b[0m\u001b[0m\n\u001b[0;32m--> 201\u001b[0;31m         \u001b[0mresp\u001b[0m \u001b[0;34m=\u001b[0m \u001b[0mself\u001b[0m\u001b[0;34m.\u001b[0m\u001b[0m_arm_stub\u001b[0m\u001b[0;34m.\u001b[0m\u001b[0mComputeArmFK\u001b[0m\u001b[0;34m(\u001b[0m\u001b[0mreq\u001b[0m\u001b[0;34m)\u001b[0m\u001b[0;34m\u001b[0m\u001b[0;34m\u001b[0m\u001b[0m\n\u001b[0m\u001b[1;32m    202\u001b[0m         \u001b[0;32mif\u001b[0m \u001b[0;32mnot\u001b[0m \u001b[0mresp\u001b[0m\u001b[0;34m.\u001b[0m\u001b[0msuccess\u001b[0m\u001b[0;34m:\u001b[0m\u001b[0;34m\u001b[0m\u001b[0;34m\u001b[0m\u001b[0m\n\u001b[1;32m    203\u001b[0m             \u001b[0;32mraise\u001b[0m \u001b[0mValueError\u001b[0m\u001b[0;34m(\u001b[0m\u001b[0;34mf\"No solution found for the given joints ({joints_positions})!\"\u001b[0m\u001b[0;34m)\u001b[0m\u001b[0;34m\u001b[0m\u001b[0;34m\u001b[0m\u001b[0m\n",
      "\u001b[0;32m~/.local/lib/python3.10/site-packages/grpc/_channel.py\u001b[0m in \u001b[0;36m__call__\u001b[0;34m(self, request, timeout, metadata, credentials, wait_for_ready, compression)\u001b[0m\n\u001b[1;32m   1156\u001b[0m             \u001b[0mstate\u001b[0m\u001b[0;34m,\u001b[0m\u001b[0;34m\u001b[0m\u001b[0;34m\u001b[0m\u001b[0m\n\u001b[1;32m   1157\u001b[0m             \u001b[0mcall\u001b[0m\u001b[0;34m,\u001b[0m\u001b[0;34m\u001b[0m\u001b[0;34m\u001b[0m\u001b[0m\n\u001b[0;32m-> 1158\u001b[0;31m         \u001b[0;34m)\u001b[0m \u001b[0;34m=\u001b[0m \u001b[0mself\u001b[0m\u001b[0;34m.\u001b[0m\u001b[0m_blocking\u001b[0m\u001b[0;34m(\u001b[0m\u001b[0;34m\u001b[0m\u001b[0;34m\u001b[0m\u001b[0m\n\u001b[0m\u001b[1;32m   1159\u001b[0m             \u001b[0mrequest\u001b[0m\u001b[0;34m,\u001b[0m \u001b[0mtimeout\u001b[0m\u001b[0;34m,\u001b[0m \u001b[0mmetadata\u001b[0m\u001b[0;34m,\u001b[0m \u001b[0mcredentials\u001b[0m\u001b[0;34m,\u001b[0m \u001b[0mwait_for_ready\u001b[0m\u001b[0;34m,\u001b[0m \u001b[0mcompression\u001b[0m\u001b[0;34m\u001b[0m\u001b[0;34m\u001b[0m\u001b[0m\n\u001b[1;32m   1160\u001b[0m         )\n",
      "\u001b[0;32m~/.local/lib/python3.10/site-packages/grpc/_channel.py\u001b[0m in \u001b[0;36m_blocking\u001b[0;34m(self, request, timeout, metadata, credentials, wait_for_ready, compression)\u001b[0m\n\u001b[1;32m   1140\u001b[0m                 \u001b[0mself\u001b[0m\u001b[0;34m.\u001b[0m\u001b[0m_context\u001b[0m\u001b[0;34m,\u001b[0m\u001b[0;34m\u001b[0m\u001b[0;34m\u001b[0m\u001b[0m\n\u001b[1;32m   1141\u001b[0m             )\n\u001b[0;32m-> 1142\u001b[0;31m             \u001b[0mevent\u001b[0m \u001b[0;34m=\u001b[0m \u001b[0mcall\u001b[0m\u001b[0;34m.\u001b[0m\u001b[0mnext_event\u001b[0m\u001b[0;34m(\u001b[0m\u001b[0;34m)\u001b[0m\u001b[0;34m\u001b[0m\u001b[0;34m\u001b[0m\u001b[0m\n\u001b[0m\u001b[1;32m   1143\u001b[0m             \u001b[0m_handle_event\u001b[0m\u001b[0;34m(\u001b[0m\u001b[0mevent\u001b[0m\u001b[0;34m,\u001b[0m \u001b[0mstate\u001b[0m\u001b[0;34m,\u001b[0m \u001b[0mself\u001b[0m\u001b[0;34m.\u001b[0m\u001b[0m_response_deserializer\u001b[0m\u001b[0;34m)\u001b[0m\u001b[0;34m\u001b[0m\u001b[0;34m\u001b[0m\u001b[0m\n\u001b[1;32m   1144\u001b[0m             \u001b[0;32mreturn\u001b[0m \u001b[0mstate\u001b[0m\u001b[0;34m,\u001b[0m \u001b[0mcall\u001b[0m\u001b[0;34m\u001b[0m\u001b[0;34m\u001b[0m\u001b[0m\n",
      "\u001b[0;32msrc/python/grpcio/grpc/_cython/_cygrpc/channel.pyx.pxi\u001b[0m in \u001b[0;36mgrpc._cython.cygrpc.SegregatedCall.next_event\u001b[0;34m()\u001b[0m\n",
      "\u001b[0;32msrc/python/grpcio/grpc/_cython/_cygrpc/channel.pyx.pxi\u001b[0m in \u001b[0;36mgrpc._cython.cygrpc._next_call_event\u001b[0;34m()\u001b[0m\n",
      "\u001b[0;32m/usr/lib/python3.10/threading.py\u001b[0m in \u001b[0;36m__enter__\u001b[0;34m(self)\u001b[0m\n\u001b[1;32m    262\u001b[0m         \u001b[0mself\u001b[0m\u001b[0;34m.\u001b[0m\u001b[0m_waiters\u001b[0m\u001b[0;34m.\u001b[0m\u001b[0mclear\u001b[0m\u001b[0;34m(\u001b[0m\u001b[0;34m)\u001b[0m\u001b[0;34m\u001b[0m\u001b[0;34m\u001b[0m\u001b[0m\n\u001b[1;32m    263\u001b[0m \u001b[0;34m\u001b[0m\u001b[0m\n\u001b[0;32m--> 264\u001b[0;31m     \u001b[0;32mdef\u001b[0m \u001b[0m__enter__\u001b[0m\u001b[0;34m(\u001b[0m\u001b[0mself\u001b[0m\u001b[0;34m)\u001b[0m\u001b[0;34m:\u001b[0m\u001b[0;34m\u001b[0m\u001b[0;34m\u001b[0m\u001b[0m\n\u001b[0m\u001b[1;32m    265\u001b[0m         \u001b[0;32mreturn\u001b[0m \u001b[0mself\u001b[0m\u001b[0;34m.\u001b[0m\u001b[0m_lock\u001b[0m\u001b[0;34m.\u001b[0m\u001b[0m__enter__\u001b[0m\u001b[0;34m(\u001b[0m\u001b[0;34m)\u001b[0m\u001b[0;34m\u001b[0m\u001b[0;34m\u001b[0m\u001b[0m\n\u001b[1;32m    266\u001b[0m \u001b[0;34m\u001b[0m\u001b[0m\n",
      "\u001b[0;31mKeyboardInterrupt\u001b[0m: "
     ]
    }
   ],
   "source": [
    "x, y, z = reachy.r_arm.forward_kinematics()[:3, -1]\n",
    "reachy.head.look_at(x=x, y=y, z=z, duration=1.0)\n",
    "\n",
    "time.sleep(0.5)\n",
    "\n",
    "while True:\n",
    "    x, y, z = reachy.r_arm.forward_kinematics()[:3, -1]\n",
    "    reachy.head.look_at(x=x, y=y, z=z, duration=0.1)"
   ]
  },
  {
   "cell_type": "markdown",
   "id": "b3c2b3e3",
   "metadata": {},
   "source": [
    "What the code says is that we compute the forward_kinematics, and the x, y, z of Reachy's right end-effector in the Reachy's coordinates system will be the coordinates of the point used by the *look_at*.\n",
    "\n",
    "> **Manually stop the previous execution cell**, because of the `while True` loop"
   ]
  },
  {
   "cell_type": "markdown",
   "id": "58ee1529",
   "metadata": {},
   "source": [
    "### rotate_to()\n",
    "\n",
    "The `rotate_to()` function is another way to control the head. You directly control the joint of the neck, giving the roll, pitch and yaw angles in degrees. The rotation is made in the order: roll, pitch, yaw, in the Orbita3D coordinate system."
   ]
  },
  {
   "cell_type": "code",
   "execution_count": 10,
   "id": "3c513e13",
   "metadata": {},
   "outputs": [
    {
     "data": {
      "text/plain": [
       "id: 404"
      ]
     },
     "execution_count": 10,
     "metadata": {},
     "output_type": "execute_result"
    }
   ],
   "source": [
    "reachy.head.rotate_to(roll=0, pitch=-10, yaw=0, duration=1.0)"
   ]
  },
  {
   "cell_type": "markdown",
   "id": "f2bb6457",
   "metadata": {},
   "source": [
    "### orient()\n",
    "\n",
    "The last method to control the head is the `orient()` method. You can control the head with a quaternion.\n",
    "\n",
    "You can use [pyquaternion library](https://kieranwynn.github.io/pyquaternion/) to create suitable quaternion for this method."
   ]
  },
  {
   "cell_type": "code",
   "execution_count": 11,
   "id": "354eae56",
   "metadata": {},
   "outputs": [
    {
     "data": {
      "text/plain": [
       "id: 405"
      ]
     },
     "execution_count": 11,
     "metadata": {},
     "output_type": "execute_result"
    }
   ],
   "source": [
    "from pyquaternion import Quaternion\n",
    "\n",
    "q = Quaternion(axis=[1, 0, 0], angle=3.14159265)\n",
    "reachy.head.turn_on()\n",
    "reachy.head.orient(q)"
   ]
  },
  {
   "cell_type": "markdown",
   "id": "c49deace",
   "metadata": {},
   "source": [
    "## Read head position\n",
    "\n",
    "You can read the head orientation in two different ways:\n",
    "\n",
    "- using the `get_orientation()` method, which returns a quaternion\n",
    "- using the `get_joints_positions()` method, which the neck's roll, pitch and yaw present_position.\n",
    "\n",
    "### get_orientation()"
   ]
  },
  {
   "cell_type": "code",
   "execution_count": 12,
   "id": "5119cbae",
   "metadata": {},
   "outputs": [
    {
     "name": "stdout",
     "output_type": "stream",
     "text": [
      "-0.000 +1.000i +0.000j +0.000k\n"
     ]
    }
   ],
   "source": [
    "q = reachy.head.get_orientation()\n",
    "print(q)"
   ]
  },
  {
   "cell_type": "markdown",
   "id": "45a85811",
   "metadata": {},
   "source": [
    "### get_joints_positions()\n",
    "\n",
    "In case you feel more comfortable using roll, pitch, yaw angles rather than working with quaternions, you can retrieve those values from the **neck joints**."
   ]
  },
  {
   "cell_type": "code",
   "execution_count": 15,
   "id": "4a825e47",
   "metadata": {},
   "outputs": [
    {
     "data": {
      "text/plain": [
       "[20.0, 30.0, -10.0]"
      ]
     },
     "execution_count": 15,
     "metadata": {},
     "output_type": "execute_result"
    }
   ],
   "source": [
    "reachy.head.rotate_to(20, 30, -10)\n",
    "\n",
    "time.sleep(2)\n",
    "\n",
    "reachy.head.get_joints_positions()"
   ]
  },
  {
   "cell_type": "markdown",
   "id": "b966a8a6",
   "metadata": {},
   "source": [
    "Be careful that contrary to the quaternion that offers a unique representation of a rotation, it is not the case of the euler angles. Several angles combination can lead to the same orientation in space. For example:\n"
   ]
  },
  {
   "cell_type": "code",
   "execution_count": 18,
   "id": "1eb4d748",
   "metadata": {},
   "outputs": [
    {
     "data": {
      "text/plain": [
       "[-110.0, -80.0, -100.0]"
      ]
     },
     "execution_count": 18,
     "metadata": {},
     "output_type": "execute_result"
    }
   ],
   "source": [
    "reachy.head.rotate_to(70, -100, 80)  #  roll=70, pitch=-100, yaw=80\n",
    "\n",
    "time.sleep(2)\n",
    "\n",
    "reachy.head.get_joints_positions()"
   ]
  },
  {
   "cell_type": "markdown",
   "id": "68833679",
   "metadata": {},
   "source": [
    "The values are different, nevertheless it is the same final orientation. You can convince yourself doing:"
   ]
  },
  {
   "cell_type": "code",
   "execution_count": 17,
   "id": "a4e4bd79",
   "metadata": {},
   "outputs": [
    {
     "data": {
      "text/plain": [
       "id: 410"
      ]
     },
     "execution_count": 17,
     "metadata": {},
     "output_type": "execute_result"
    }
   ],
   "source": [
    "reachy.head.rotate_to(-110, -80, -100)"
   ]
  },
  {
   "cell_type": "markdown",
   "id": "e17de027",
   "metadata": {},
   "source": [
    "The head won't move."
   ]
  }
 ],
 "metadata": {
  "kernelspec": {
   "display_name": "Python 3 (ipykernel)",
   "language": "python",
   "name": "python3"
  },
  "language_info": {
   "codemirror_mode": {
    "name": "ipython",
    "version": 3
   },
   "file_extension": ".py",
   "mimetype": "text/x-python",
   "name": "python",
   "nbconvert_exporter": "python",
   "pygments_lexer": "ipython3",
   "version": "3.10.12"
  }
 },
 "nbformat": 4,
 "nbformat_minor": 5
}
