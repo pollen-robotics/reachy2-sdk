{
 "cells": [
  {
   "cell_type": "markdown",
   "id": "748878af",
   "metadata": {},
   "source": [
    "# The mobile base"
   ]
  },
  {
   "cell_type": "markdown",
   "id": "f76b3516",
   "metadata": {},
   "source": [
    "Reachy 2 is mounted on a mobile base!"
   ]
  },
  {
   "cell_type": "markdown",
   "id": "923aca0f",
   "metadata": {},
   "source": [
    "## Initialize your robot\n",
    "\n",
    "First connect to your robot:"
   ]
  },
  {
   "cell_type": "code",
   "execution_count": null,
   "id": "588cbcb7",
   "metadata": {},
   "outputs": [],
   "source": [
    "from reachy2_sdk import ReachySDK\n",
    "\n",
    "reachy = ReachySDK(host='localhost')  # Replace with the actual IP"
   ]
  },
  {
   "cell_type": "markdown",
   "id": "3e47ec7d",
   "metadata": {},
   "source": [
    "Let's check what contains the mobile base part:"
   ]
  },
  {
   "cell_type": "code",
   "execution_count": null,
   "id": "f2d8265b",
   "metadata": {},
   "outputs": [],
   "source": [
    "reachy.mobile_base"
   ]
  },
  {
   "cell_type": "markdown",
   "id": "3800d51e",
   "metadata": {},
   "source": [
    "## Move around"
   ]
  },
  {
   "cell_type": "markdown",
   "id": "d8360000",
   "metadata": {},
   "source": [
    "Three modes are possible to control the mobile base:\n",
    "- goto: move the mobile base to a target point in space -> use a goto function to get in this mode\n",
    "- free wheel: unlock the wheel so Reachy can be manually moved around easily -> turn_off() method will set this mode\n",
    "- brake: stop of movement and lock the wheels -> turn_on() method will set this mode"
   ]
  },
  {
   "cell_type": "markdown",
   "id": "332238c4",
   "metadata": {},
   "source": [
    "### Goto and odometry"
   ]
  },
  {
   "cell_type": "code",
   "execution_count": null,
   "id": "49ff364b",
   "metadata": {},
   "outputs": [],
   "source": [
    "reachy.mobile_base.turn_on()\n",
    "\n",
    "reachy.mobile_base.reset_odometry()\n",
    "\n",
    "# Rotation to be at 90 degrees in the frame\n",
    "reachy.mobile_base.goto(x=0.0, y=0.0, theta=90.0)"
   ]
  },
  {
   "cell_type": "markdown",
   "id": "913170a6",
   "metadata": {},
   "source": [
    "> Be careful, goto is not a *Move* method as for the arms. This goto will return once the movement is done, or the timeout expired. If you need to run this function in parallel to other processing, please check the `goto_async`"
   ]
  },
  {
   "cell_type": "code",
   "execution_count": null,
   "id": "a5b023c3",
   "metadata": {},
   "outputs": [],
   "source": [
    "# Go back to 0 degree in the frame\n",
    "reachy.mobile_base.goto(x=0.0, y=0.0, theta=0.0)"
   ]
  },
  {
   "cell_type": "code",
   "execution_count": null,
   "id": "b7e683a6",
   "metadata": {},
   "outputs": [],
   "source": [
    "# Rotation to be at 90 degrees in the frame\n",
    "reachy.mobile_base.goto(x=0.0, y=0.0, theta=90.0)\n",
    "\n",
    "# Reset odometry\n",
    "reachy.mobile_base.reset_odometry()\n",
    "# Go back to 0 degree in the frame, it won't move because the frame has changed\n",
    "reachy.mobile_base.goto(x=0.0, y=0.0, theta=0.0)\n"
   ]
  },
  {
   "cell_type": "code",
   "execution_count": null,
   "id": "da0bd106",
   "metadata": {},
   "outputs": [],
   "source": [
    "# Rotation to be at 90 degrees in the new frame\n",
    "reachy.mobile_base.goto(x=0.0, y=0.0, theta=90.0)"
   ]
  },
  {
   "cell_type": "markdown",
   "id": "b5adf8bd",
   "metadata": {},
   "source": [
    "The speed of the movement can be defined using"
   ]
  },
  {
   "cell_type": "code",
   "execution_count": null,
   "id": "65931351",
   "metadata": {},
   "outputs": [],
   "source": [
    "reachy.mobile_base.set_speed(1.0,1.0, 2)"
   ]
  },
  {
   "cell_type": "markdown",
   "id": "6b1d72d7",
   "metadata": {},
   "source": [
    "### Free wheel"
   ]
  },
  {
   "cell_type": "code",
   "execution_count": null,
   "id": "605009d4",
   "metadata": {},
   "outputs": [],
   "source": [
    "reachy.mobile_base.turn_off()"
   ]
  }
 ],
 "metadata": {
  "kernelspec": {
   "display_name": "Python 3 (ipykernel)",
   "language": "python",
   "name": "python3"
  },
  "language_info": {
   "codemirror_mode": {
    "name": "ipython",
    "version": 3
   },
   "file_extension": ".py",
   "mimetype": "text/x-python",
   "name": "python",
   "nbconvert_exporter": "python",
   "pygments_lexer": "ipython3",
   "version": "3.10.0"
  }
 },
 "nbformat": 4,
 "nbformat_minor": 5
}
