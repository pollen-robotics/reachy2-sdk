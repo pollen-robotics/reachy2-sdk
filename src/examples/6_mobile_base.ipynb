{
 "cells": [
  {
   "cell_type": "markdown",
   "id": "748878af",
   "metadata": {},
   "source": [
    "# The mobile base"
   ]
  },
  {
   "cell_type": "markdown",
   "id": "f76b3516",
   "metadata": {},
   "source": [
    "Reachy 2 is mounted on a mobile base!"
   ]
  },
  {
   "cell_type": "markdown",
   "id": "53f1b017",
   "metadata": {},
   "source": [
    "TODO!"
   ]
  },
  {
   "cell_type": "markdown",
   "id": "923aca0f",
   "metadata": {},
   "source": [
    "## Initialize your robot\n",
    "\n",
    "First connect to your robot:"
   ]
  },
  {
   "cell_type": "code",
   "execution_count": null,
   "id": "588cbcb7",
   "metadata": {},
   "outputs": [],
   "source": [
    "from reachy2_sdk import ReachySDK\n",
    "\n",
    "reachy = ReachySDK(host='localhost')  # Replace with the actual IP"
   ]
  },
  {
   "cell_type": "markdown",
   "id": "3e47ec7d",
   "metadata": {},
   "source": [
    "Let's check what contains the head part:"
   ]
  },
  {
   "cell_type": "code",
   "execution_count": null,
   "id": "f2d8265b",
   "metadata": {},
   "outputs": [],
   "source": [
    "reachy.mobile_base"
   ]
  },
  {
   "cell_type": "markdown",
   "id": "3800d51e",
   "metadata": {},
   "source": [
    "## Move around"
   ]
  },
  {
   "cell_type": "markdown",
   "id": "d8360000",
   "metadata": {},
   "source": [
    "Three modes are possible to control the mobile base:\n",
    "- goto: move the mobile base to a target point in space\n",
    "- free wheel: unlock the wheel so Reachy can be manually moved around easily\n",
    "- brake: stop of movement and lock the wheels"
   ]
  },
  {
   "cell_type": "markdown",
   "id": "332238c4",
   "metadata": {},
   "source": [
    "### Goto"
   ]
  },
  {
   "cell_type": "code",
   "execution_count": null,
   "id": "49ff364b",
   "metadata": {},
   "outputs": [],
   "source": [
    "reachy.mobile_base.reset_odometry()\n",
    "reachy.mobile_base.goto(x=0.0, y=0.0, theta=90.0)"
   ]
  },
  {
   "cell_type": "markdown",
   "id": "913170a6",
   "metadata": {},
   "source": [
    "> Be careful, goto is not a *Move* method as for the arms. This goto will return once the movement is done, or the timeout expired. If you need to run this function in parallel to other processing, please check the `goto_async`"
   ]
  },
  {
   "cell_type": "markdown",
   "id": "b5adf8bd",
   "metadata": {},
   "source": [
    "The speed of the movement can be defined using"
   ]
  },
  {
   "cell_type": "code",
   "execution_count": null,
   "id": "65931351",
   "metadata": {},
   "outputs": [],
   "source": [
    "reachy.mobile_base.set_speed(2,2, 2) # TODO check"
   ]
  },
  {
   "cell_type": "markdown",
   "id": "6b1d72d7",
   "metadata": {},
   "source": [
    "### Free wheel"
   ]
  },
  {
   "cell_type": "code",
   "execution_count": null,
   "id": "605009d4",
   "metadata": {},
   "outputs": [],
   "source": [
    "reachy.mobile_base.free_wheel()"
   ]
  },
  {
   "cell_type": "markdown",
   "id": "73c6fea6",
   "metadata": {},
   "source": [
    "### Brake"
   ]
  },
  {
   "cell_type": "code",
   "execution_count": null,
   "id": "96fefec5",
   "metadata": {},
   "outputs": [],
   "source": [
    "reachy.mobile_base.brake()"
   ]
  },
  {
   "cell_type": "markdown",
   "id": "4db5ac86",
   "metadata": {},
   "source": []
  }
 ],
 "metadata": {
  "kernelspec": {
   "display_name": "Python 3 (ipykernel)",
   "language": "python",
   "name": "python3"
  },
  "language_info": {
   "codemirror_mode": {
    "name": "ipython",
    "version": 3
   },
   "file_extension": ".py",
   "mimetype": "text/x-python",
   "name": "python",
   "nbconvert_exporter": "python",
   "pygments_lexer": "ipython3",
   "version": "3.10.0"
  }
 },
 "nbformat": 4,
 "nbformat_minor": 5
}
