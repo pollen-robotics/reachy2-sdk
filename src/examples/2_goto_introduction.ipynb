{
    "cells": [
        {
            "attachments": {},
            "cell_type": "markdown",
            "id": "0",
            "metadata": {},
            "source": [
                "# Goto introduction"
            ]
        },
        {
            "attachments": {},
            "cell_type": "markdown",
            "id": "1",
            "metadata": {},
            "source": [
                "ReachySDK for Reachy 2 offers you methods to make movements with the arms and head, controlling the target position in several ways, choosing the duration of the movement, or even the interpolation mode. We called them **Goto**.\n",
                "\n",
                "Those methods work the same way on the left and right arms and on the head, **but not on the mobile base**.\n",
                "\n",
                "The methods to use in order to control the robot are:\n",
                "- for the arms:\n",
                "    - `goto_joints()`: you control directly the goal position of each joint of the arm, in degrees\n",
                "    - `goto_from_matrix()`: you control the target pose of the end effector in the robot's coordinate system, from a 4x4 homogeneous matrix\n",
                "- for the head:\n",
                "    - `look_at()`: you control the head by giving a point in the robot coordinate system the head will look at\n",
                "    - `goto_joints()`: you control directly the roll, pitch and yaw goal positions of the neck, in degrees\n",
                "    - `goto_quat()`: you control the head orientation with a quaternion\n"
            ]
        },
        {
            "attachments": {},
            "cell_type": "markdown",
            "id": "2",
            "metadata": {},
            "source": [
                "## Initialize to your robot"
            ]
        },
        {
            "attachments": {},
            "cell_type": "markdown",
            "id": "3",
            "metadata": {},
            "source": [
                "Connect to your robot:"
            ]
        },
        {
            "cell_type": "code",
            "execution_count": null,
            "id": "4",
            "metadata": {},
            "outputs": [],
            "source": [
                "from reachy2_sdk import ReachySDK\n",
                "import time # used for time.sleep() later in the tutorial\n",
                "\n",
                "reachy = ReachySDK(host='localhost')  #Replace localhost with your robot's IP or .local address"
            ]
        },
        {
            "attachments": {},
            "cell_type": "markdown",
            "id": "5",
            "metadata": {},
            "source": [
                "Turn on Reachy so the motors can be controlled, and set in the zero pose:"
            ]
        },
        {
            "cell_type": "code",
            "execution_count": null,
            "id": "6",
            "metadata": {},
            "outputs": [],
            "source": [
                "reachy.turn_on()\n",
                "\n",
                "reachy.goto_posture('default')"
            ]
        },
        {
            "attachments": {},
            "cell_type": "markdown",
            "id": "7",
            "metadata": {},
            "source": [
                "`goto_posture()` is a convenient function to configure the posture of all Reachy parts at once. \n",
                "\n",
                "It accepts the parameter *'default'* (i.e. `goto_posture('default')`), which gives Reachy's default pose with arms outstretched on either side of the body, and elbow_90 (i.e. `goto_posture('elbow_90')`), in which Reachy that set the default pose of Reachy has the two forearms parallel to the ground. These standard poses can be useful when you want to start a new task from a known position."
            ]
        },
        {
            "attachments": {},
            "cell_type": "markdown",
            "id": "8",
            "metadata": {},
            "source": [
                "> This example is available in [set_zero_pose.py](set_zero_pose.py)"
            ]
        },
        {
            "attachments": {},
            "cell_type": "markdown",
            "id": "9",
            "metadata": {},
            "source": [
                "## Set your First Move"
            ]
        },
        {
            "attachments": {},
            "cell_type": "markdown",
            "id": "10",
            "metadata": {},
            "source": [
                "Let's move Reachy's right arm. The *goto_joints* allows to control the 7 degrees of freedom of the arm at once (see [getting_started](1_getting_started.ipynb))"
            ]
        },
        {
            "cell_type": "code",
            "execution_count": null,
            "id": "11",
            "metadata": {},
            "outputs": [],
            "source": [
                "goto_1 = reachy.r_arm.goto_joints([10, -10, 0, -90, 0, 0, 0])\n",
                "\n",
                "print(f'goto 1 {goto_1}')"
            ]
        },
        {
            "cell_type": "markdown",
            "id": "12",
            "metadata": {},
            "source": [
                "This method returns an id, that you can use to get information on this movement or to cancel this movement. Store this id in a variable (*goto_1* here) to be able to use it further. All the goto methods return an id."
            ]
        },
        {
            "cell_type": "markdown",
            "id": "13",
            "metadata": {},
            "source": [
                "## Goto commands"
            ]
        },
        {
            "cell_type": "markdown",
            "id": "14",
            "metadata": {},
            "source": [
                "A goto command can only be sent on parts:\n",
                "- reachy.l_arm\n",
                "- reachy.r_arm\n",
                "- reachy.head\n",
                "\n",
                "and is defined by 3 parameters : \n",
                "- the **joint commands**, as a list of 7 degree values for the arms and 3 values for the head\n",
                "- the **duration**, in seconds - *set to 2 by default*\n",
                "- the **interpolation mode**, 'linear' or 'minimum_jerk' - *set to 'minimum_jerk' by default*\n"
            ]
        },
        {
            "cell_type": "markdown",
            "id": "15",
            "metadata": {},
            "source": [
                "#### Goto duration \n",
                "\n",
                "You can give a custom duration for the execution of the movements, as shown in the examples above : "
            ]
        },
        {
            "cell_type": "code",
            "execution_count": null,
            "id": "16",
            "metadata": {},
            "outputs": [],
            "source": [
                "reachy.goto_posture('default')"
            ]
        },
        {
            "cell_type": "code",
            "execution_count": null,
            "id": "17",
            "metadata": {},
            "outputs": [],
            "source": [
                "reachy.head.goto_joints([20, 30, -10], duration = 3)\n",
                "reachy.l_arm.goto_joints([0, 15, 15, -90, 0, 0, 0], duration = 5)\n",
                "\n",
                "\n",
                "# Doing:\n",
                "reachy.l_arm.goto_joints([0, 20, 0, 0, 0, 0, 0])\n",
                "# will lead to the same result as:\n",
                "reachy.l_arm.goto_joints([0, 20, 0, 0, 0, 0, 0], duration = 2)"
            ]
        },
        {
            "cell_type": "markdown",
            "id": "18",
            "metadata": {},
            "source": [
                "> Default duration is **2 seconds**.\n",
                "\n",
                "You **cannot set a duration to 0 second**. This will raise an exception in your code!"
            ]
        },
        {
            "cell_type": "code",
            "execution_count": null,
            "id": "19",
            "metadata": {},
            "outputs": [],
            "source": [
                "reachy.l_arm.goto_joints([0, 0, 0, 0, 0, 0, 0], duration = 0) # raises an exception"
            ]
        },
        {
            "cell_type": "markdown",
            "id": "20",
            "metadata": {},
            "source": [
                "#### Goto interpolation mode"
            ]
        },
        {
            "cell_type": "markdown",
            "id": "21",
            "metadata": {},
            "source": [
                "The goto methods generates a trajectory between the present position and the goal position. This trajectory is then interpolated at a predefined frequency (100Hz) to compute all intermediary target positions that should be followed before reaching the final goal position. Depending on the interpolation mode chosen, you can have a better control over speed and acceleration.\n",
                "\n",
                "Two interpolation modes are available when sending a goto command:\n",
                "- the **linear** interpolation mode\n",
                "- the **minimum-jerk** interpolation mode\n",
                "\n",
                "Both trajectories start and finish at the same point but don't follow the same intermediate positions. The minimum jerk will slowly accelerate at the begining and slowly decelerate at the end. This makes the movements more natural.\n",
                "\n",
                "You can specify the interpolation mode by setting the **`interpolation_mode`** argument when calling the method:"
            ]
        },
        {
            "cell_type": "code",
            "execution_count": null,
            "id": "22",
            "metadata": {},
            "outputs": [],
            "source": [
                "reachy.goto_posture('default')\n",
                "while reachy.l_arm.get_goto_playing().id != -1 or reachy.r_arm.get_goto_playing().id != -1 or reachy.head.get_goto_playing().id != -1:\n",
                "    time.sleep(0.5)\n",
                "\n",
                "reachy.head.goto_joints([20, 30, -10], interpolation_mode='linear')\n",
                "reachy.l_arm.goto_joints([0, 15, 15, -90, 0, 0, 0], interpolation_mode='linear')"
            ]
        },
        {
            "cell_type": "markdown",
            "id": "23",
            "metadata": {},
            "source": [
                "> Default interpolation mode is **minimum_jerk**."
            ]
        },
        {
            "cell_type": "code",
            "execution_count": null,
            "id": "24",
            "metadata": {},
            "outputs": [],
            "source": [
                "# Doing:\n",
                "reachy.l_arm.goto_joints([0, 20, 0, 0, 0, 0, 0])\n",
                "# will lead to the same result as:\n",
                "reachy.l_arm.goto_joints([0, 20, 0, 0, 0, 0, 0], interpolation_mode='minimum_jerk')\n"
            ]
        },
        {
            "attachments": {},
            "cell_type": "markdown",
            "id": "25",
            "metadata": {},
            "source": [
                "## Goto execution"
            ]
        },
        {
            "attachments": {},
            "cell_type": "markdown",
            "id": "26",
            "metadata": {},
            "source": [
                "There are two important concepts to be aware of: gotos are stacked for a part (i.e. they run one after another), but each part is independent (i.e. a goto for the left arm will run in parallel with a goto for the right arm)."
            ]
        },
        {
            "attachments": {},
            "cell_type": "markdown",
            "id": "27",
            "metadata": {},
            "source": [
                "### Goto is non-blocking for other parts "
            ]
        },
        {
            "attachments": {},
            "cell_type": "markdown",
            "id": "28",
            "metadata": {},
            "source": [
                "It means you can send a goto command on different parts, it won't wait for the movement to be executed on the first part to execute the other one, but will follow the timing of your code.\n",
                "\n",
                "Let's take an example with a motion sequence : \n",
                "\n",
                "- Start by returning the robot to its neutral position."
            ]
        },
        {
            "cell_type": "code",
            "execution_count": null,
            "id": "29",
            "metadata": {},
            "outputs": [],
            "source": [
                "reachy.goto_posture('default')"
            ]
        },
        {
            "cell_type": "markdown",
            "id": "30",
            "metadata": {},
            "source": [
                "- Send a goto on both arms, with a delay between them. "
            ]
        },
        {
            "cell_type": "code",
            "execution_count": null,
            "id": "31",
            "metadata": {},
            "outputs": [],
            "source": [
                "reachy.l_arm.goto_joints([0, 15, 15, -90, 0, 0, 0], duration = 3)\n",
                "time.sleep(1)\n",
                "reachy.r_arm.goto_joints([0, -15, -15, -90, 0, 0, 0], duration = 2)"
            ]
        },
        {
            "attachments": {},
            "cell_type": "markdown",
            "id": "32",
            "metadata": {},
            "source": [
                "This sequence will take 3 seconds to execute, as the right arm will start its movement 1 second after the left arm has started its own movement. They will finish at the same time."
            ]
        },
        {
            "attachments": {},
            "cell_type": "markdown",
            "id": "33",
            "metadata": {},
            "source": [
                "### Goto is blocking and stacked for a part"
            ]
        },
        {
            "attachments": {},
            "cell_type": "markdown",
            "id": "34",
            "metadata": {},
            "source": [
                "It means that you can send several goto commands on a part one after another without any delay, they will be played in this order, but will wait for the previous goto to be finished.  \n",
                "\n",
                "Let's take an example with the following sequence:"
            ]
        },
        {
            "cell_type": "code",
            "execution_count": null,
            "id": "35",
            "metadata": {},
            "outputs": [],
            "source": [
                "reachy.goto_posture('default')"
            ]
        },
        {
            "cell_type": "code",
            "execution_count": null,
            "id": "36",
            "metadata": {},
            "outputs": [],
            "source": [
                "reachy.l_arm.goto_joints([0, 15, 15, -90, 0, 0, 0], duration = 3)\n",
                "reachy.l_arm.goto_joints([0, 20, 0, 0, 0, 0, 0], duration = 2)\n",
                "reachy.l_arm.goto_joints([0, 15, 15, -90, 0, 0, 0], duration = 3)"
            ]
        },
        {
            "attachments": {},
            "cell_type": "markdown",
            "id": "37",
            "metadata": {},
            "source": [
                "This sequence will take 8 seconds to execute, as each movement on the left arm will wait for the previous before starting.  \n",
                "\n",
                "Nevertheless, you can still send goto commands to other parts."
            ]
        },
        {
            "cell_type": "code",
            "execution_count": null,
            "id": "38",
            "metadata": {},
            "outputs": [],
            "source": [
                "reachy.goto_posture('default')"
            ]
        },
        {
            "cell_type": "code",
            "execution_count": null,
            "id": "39",
            "metadata": {},
            "outputs": [],
            "source": [
                "reachy.l_arm.goto_joints([0, 15, 15, -90, 0, 0, 0], duration = 3)  #1\n",
                "time.sleep(1)\n",
                "reachy.l_arm.goto_joints([0, 20, 0, 0, 0, 0, 0], duration = 2)  #2\n",
                "reachy.l_arm.goto_joints([0, 15, 15, -90, 0, 0, 0], duration = 3)  #3\n",
                "reachy.r_arm.goto_joints([0, -15, -15, -90, 0, 0, 0], duration = 2)  #4"
            ]
        },
        {
            "attachments": {},
            "cell_type": "markdown",
            "id": "40",
            "metadata": {},
            "source": [
                "This sequence will still take 8 seconds to execute:\n",
                "- commands #1, #2 and #3 are sent to the left arm. They will be stacked on the left arm, and the `time.sleep(1)` won't have any effect . When received, command #2 will simply wait 2 seconds rather than 3 secondes in the previous example.\n",
                "- commands #4 is sent on the right arm, where no movement is processed. It will then start 1 second after command #1 has started, and will then be over approximatively at the same time.\n",
                "\n",
                "The sequence execution order is #1, #4, #2, #3."
            ]
        },
        {
            "cell_type": "markdown",
            "id": "41",
            "metadata": {},
            "source": [
                "So how can a left arm goto wait for a right arm move? That's simple using the goto or the part execution states. \n",
                "\n",
                "Let's focus on that !"
            ]
        },
        {
            "attachments": {},
            "cell_type": "markdown",
            "id": "42",
            "metadata": {},
            "source": [
                "### Goto state"
            ]
        },
        {
            "attachments": {},
            "cell_type": "markdown",
            "id": "43",
            "metadata": {},
            "source": [
                "For a specific goto, you may want to know its current state. You can get information on the goto given its id with 2 methods available at reachy's level:\n",
                "\n",
                "- **`is_goto_finished()`**: return True if the movement is over, but also if it won't be played because it has been cancelled for example\n",
                "- **`get_goto_joints_request()`**: will return the joints goal positions sent to the part by the corresponding goto command \n",
                "\n",
                "\n",
                "Let's take an example:"
            ]
        },
        {
            "cell_type": "code",
            "execution_count": null,
            "id": "44",
            "metadata": {},
            "outputs": [],
            "source": [
                "goto_1 = reachy.l_arm.goto_joints([0, 20, 0, 0, 0, 0, 0], duration = 3)\n",
                "\n",
                "time.sleep(1)\n",
                "\n",
                "# Goto is currently being played\n",
                "goto1_is_finished = reachy.is_goto_finished(goto_1)\n",
                "print(f'After 1 second, goto 1 is finished : {goto1_is_finished}\\n')\n",
                "\n",
                "time.sleep(3)\n",
                "\n",
                "# Goto is now over\n",
                "goto1_is_finished = reachy.is_goto_finished(goto_1)\n",
                "print(f'After 4 seconds, goto 1 is finished : {goto1_is_finished}')"
            ]
        },
        {
            "attachments": {},
            "cell_type": "markdown",
            "id": "45",
            "metadata": {},
            "source": [
                "Retreive the joint requests of a goto command from its ID:"
            ]
        },
        {
            "cell_type": "code",
            "execution_count": null,
            "id": "46",
            "metadata": {},
            "outputs": [],
            "source": [
                "reachy.get_goto_joints_request(goto_1)"
            ]
        },
        {
            "cell_type": "markdown",
            "id": "47",
            "metadata": {},
            "source": [
                "You get information on the joint involved, the target joint values, the duration of the movement, and the interpolation mode. "
            ]
        },
        {
            "cell_type": "markdown",
            "id": "48",
            "metadata": {},
            "source": [
                "#### Wait for goto \n",
                "\n",
                "These methods can be used to send a command once a specific goto have been completed. \n",
                "\n",
                "\n",
                "For example : "
            ]
        },
        {
            "cell_type": "code",
            "execution_count": null,
            "id": "49",
            "metadata": {},
            "outputs": [],
            "source": [
                "reachy.goto_posture('default')\n",
                "r_goto_1 = reachy.r_arm.goto_joints([0, -15, -15, -90, 0, 0, 0], duration=2)\n",
                "\n",
                "while not reachy.is_goto_finished(r_goto_1):\n",
                "    time.sleep(0.1)\n",
                "\n",
                "r_goto_2 = reachy.l_arm.goto_joints([0, 15, 15, -90, 0, 0, 0], duration=2)\n",
                "\n",
                "while not reachy.is_goto_finished(r_goto_2):\n",
                "    time.sleep(0.1)\n",
                "\n",
                "reachy.goto_posture('default')"
            ]
        },
        {
            "cell_type": "markdown",
            "id": "50",
            "metadata": {},
            "source": [
                "The command to the left arm is put on hold until the previous movement has been completed. "
            ]
        },
        {
            "attachments": {},
            "cell_type": "markdown",
            "id": "51",
            "metadata": {},
            "source": [
                "### Part execution state"
            ]
        },
        {
            "attachments": {},
            "cell_type": "markdown",
            "id": "52",
            "metadata": {},
            "source": [
                "As the sequence can become complex, you can get information for each part on its current status, to know which movement is being played and know which others are waiting to be played.  \n",
                "For each part, the following methods are available:\n",
                "- **`get_goto_playing()`**: will return the id of the currently played goto on the part\n",
                "- **`get_goto_queue()`**: will return the ids of all stacked goto commands waiting to be played on the part\n",
                "\n",
                "Those methods are called at the part level, to get info on the state of the part.  \n",
                "\n",
                "Let's take an example. "
            ]
        },
        {
            "cell_type": "code",
            "execution_count": null,
            "id": "53",
            "metadata": {},
            "outputs": [],
            "source": [
                "# Write a sequence for the left arm\n",
                "reachy.l_arm.goto_joints([0, 15, 15, -90, 0, 0, 0], duration = 3)  # id=1\n",
                "reachy.l_arm.goto_joints([0, 20, 0, 0, 0, 0, 0], duration = 2)  # id=2\n",
                "reachy.l_arm.goto_joints([0, 15, 15, -90, 0, 0, 0], duration = 3)  # id=3\n",
                "\n",
                "# Goto #1 is currently playing\n",
                "current_goto = reachy.l_arm.get_goto_playing()\n",
                "print(f'current goto : {current_goto}')\n",
                "print(f'l_arm queue length: {len(reachy.l_arm.get_goto_queue())} gotos waiting to be played')"
            ]
        },
        {
            "cell_type": "markdown",
            "id": "54",
            "metadata": {},
            "source": [
                "#### Wait for goto"
            ]
        },
        {
            "cell_type": "markdown",
            "id": "55",
            "metadata": {},
            "source": [
                "These methods are also useful for waiting for a part's movements to finish before sending new commands. \n",
                "\n",
                "For example : "
            ]
        },
        {
            "cell_type": "code",
            "execution_count": null,
            "id": "56",
            "metadata": {},
            "outputs": [],
            "source": [
                "reachy.goto_posture('default')\n",
                "while len(reachy.l_arm.get_goto_queue()) != 0 or len(reachy.r_arm.get_goto_queue()) != 0:\n",
                "    time.sleep(0.5)\n",
                "while reachy.l_arm.get_goto_playing().id != -1 or reachy.r_arm.get_goto_playing().id != -1:\n",
                "    time.sleep(0.5)\n",
                "reachy.goto_posture('elbow_90')"
            ]
        },
        {
            "attachments": {},
            "cell_type": "markdown",
            "id": "57",
            "metadata": {},
            "source": [
                "## Goto cancellation"
            ]
        },
        {
            "attachments": {},
            "cell_type": "markdown",
            "id": "58",
            "metadata": {},
            "source": [
                "If you want to modify the queue of goto commands on a part, or interrupt the movement being played, you can cancel goto commands at any time.  "
            ]
        },
        {
            "attachments": {},
            "cell_type": "markdown",
            "id": "59",
            "metadata": {},
            "source": [
                "### Single goto cancellation"
            ]
        },
        {
            "attachments": {},
            "cell_type": "markdown",
            "id": "60",
            "metadata": {},
            "source": [
                "To cancel a single movement, currently playing or stacked in a part's queue, use its id and call `cancel_goto_by_id()` from reachy. It will stop the robot at its current position."
            ]
        },
        {
            "cell_type": "code",
            "execution_count": null,
            "id": "61",
            "metadata": {},
            "outputs": [],
            "source": [
                "reachy.goto_posture('default')\n",
                "while reachy.l_arm.get_goto_playing().id != -1 or reachy.r_arm.get_goto_playing().id != -1:\n",
                "    time.sleep(0.5)\n",
                "\n",
                "goto_1 = reachy.l_arm.goto_joints([0, 15, 15, -90, 10, 0, 0], duration = 3)\n",
                "\n",
                "time.sleep(1)\n",
                "reachy.cancel_goto_by_id(goto_1)"
            ]
        },
        {
            "attachments": {},
            "cell_type": "markdown",
            "id": "62",
            "metadata": {},
            "source": [
                "### Multiple gotos cancellation"
            ]
        },
        {
            "attachments": {},
            "cell_type": "markdown",
            "id": "63",
            "metadata": {},
            "source": [
                "To cancel all gotos at once, you can call the `cancel_all_goto()` methods.  \n",
                "This method can be called at the level you want to act, which can be either **reachy** or a **specific part**. "
            ]
        },
        {
            "attachments": {},
            "cell_type": "markdown",
            "id": "64",
            "metadata": {},
            "source": [
                "#### All gotos"
            ]
        },
        {
            "attachments": {},
            "cell_type": "markdown",
            "id": "65",
            "metadata": {},
            "source": [
                "For example, if you want to cancel all gotos on all parts:"
            ]
        },
        {
            "cell_type": "code",
            "execution_count": null,
            "id": "66",
            "metadata": {},
            "outputs": [],
            "source": [
                "reachy.goto_posture('default')\n",
                "while reachy.l_arm.get_goto_playing().id != -1 or reachy.r_arm.get_goto_playing().id != -1 or reachy.head.get_goto_playing().id != -1:\n",
                "    time.sleep(0.5)\n",
                "\n",
                "# Send a sequence of gotos\n",
                "reachy.head.goto_joints([20, 30, -10], duration=3)\n",
                "reachy.l_arm.goto_joints([0, 0, 0, -90, 0, 0, 0], duration = 3)\n",
                "reachy.l_arm.goto_joints([0, 0, 0, 0, 0, 0, 0], duration = 2)\n",
                "\n",
                "time.sleep(1)\n",
                "\n",
                "# Cancel all gotos\n",
                "reachy.cancel_all_goto()"
            ]
        },
        {
            "attachments": {},
            "cell_type": "markdown",
            "id": "67",
            "metadata": {},
            "source": [
                "All movements are cancelled, even the movement stacked in the left arm queue which will never be played.  "
            ]
        },
        {
            "attachments": {},
            "cell_type": "markdown",
            "id": "68",
            "metadata": {},
            "source": [
                "#### All gotos for one part"
            ]
        },
        {
            "attachments": {},
            "cell_type": "markdown",
            "id": "69",
            "metadata": {},
            "source": [
                "If you only want to cancel movement on the left arm:"
            ]
        },
        {
            "cell_type": "code",
            "execution_count": null,
            "id": "70",
            "metadata": {},
            "outputs": [],
            "source": [
                "reachy.goto_posture('default')\n",
                "while reachy.l_arm.get_goto_playing().id != -1 or reachy.r_arm.get_goto_playing().id != -1 or reachy.head.get_goto_playing().id != -1:\n",
                "    time.sleep(0.5)\n",
                "\n",
                "# Send a sequence of gotos\n",
                "reachy.head.goto_joints([20, 30, -10], duration=3)\n",
                "reachy.l_arm.goto_joints([0, 0, 0, -90, 0, 0, 0], duration = 3)\n",
                "reachy.l_arm.goto_joints([0, 0, 0, 0, 0, 0, 0], duration = 2)\n",
                "\n",
                "time.sleep(1)\n",
                "\n",
                "# Cancel gotos on left arm only\n",
                "reachy.l_arm.cancel_all_goto()"
            ]
        },
        {
            "attachments": {},
            "cell_type": "markdown",
            "id": "71",
            "metadata": {},
            "source": [
                "The movement on the head will continue, but all the movements of the left will be stopped and the left arm queue cleaned."
            ]
        },
        {
            "cell_type": "code",
            "execution_count": null,
            "id": "72",
            "metadata": {},
            "outputs": [],
            "source": [
                "reachy.goto_posture('default')"
            ]
        }
    ],
    "metadata": {
        "kernelspec": {
            "display_name": "reachy2",
            "language": "python",
            "name": "python3"
        },
        "language_info": {
            "codemirror_mode": {
                "name": "ipython",
                "version": 3
            },
            "file_extension": ".py",
            "mimetype": "text/x-python",
            "name": "python",
            "nbconvert_exporter": "python",
            "pygments_lexer": "ipython3",
            "version": "3.12.4"
        }
    },
    "nbformat": 4,
    "nbformat_minor": 5
}
