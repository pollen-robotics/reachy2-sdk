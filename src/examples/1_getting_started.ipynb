{
 "cells": [
  {
   "cell_type": "markdown",
   "id": "0c52fc2b",
   "metadata": {},
   "source": [
    "# First steps with Reachy 2\n",
    "\n",
    "Let's get to know Reachy in this first tutorial. We'll see how to connect to it and get basic information."
   ]
  },
  {
   "cell_type": "markdown",
   "id": "1f35ddce",
   "metadata": {},
   "source": [
    "## Connect to Reachy"
   ]
  },
  {
   "cell_type": "markdown",
   "id": "f226e41b",
   "metadata": {},
   "source": [
    "First, connect to your robot:"
   ]
  },
  {
   "cell_type": "code",
   "execution_count": 1,
   "id": "f2d8265b",
   "metadata": {},
   "outputs": [
    {
     "name": "stderr",
     "output_type": "stream",
     "text": [
      "Cameras not initialized.\n"
     ]
    }
   ],
   "source": [
    "from reachy2_sdk import ReachySDK\n",
    "\n",
    "reachy = ReachySDK(host='localhost')  # Replace with the actual IP"
   ]
  },
  {
   "cell_type": "markdown",
   "id": "245fc9b2",
   "metadata": {},
   "source": [
    "The connection status can be checked at any time with"
   ]
  },
  {
   "cell_type": "code",
   "execution_count": 8,
   "id": "1e218be1",
   "metadata": {},
   "outputs": [
    {
     "data": {
      "text/plain": [
       "True"
      ]
     },
     "execution_count": 8,
     "metadata": {},
     "output_type": "execute_result"
    }
   ],
   "source": [
    "reachy.is_connected()"
   ]
  },
  {
   "cell_type": "markdown",
   "id": "a7196684",
   "metadata": {},
   "source": [
    "Reachy is now ready to be used. By default all motors are turned off. We'll see in the next tutorial how to move Reachy. The overall status of Reach's motor can be checked as:"
   ]
  },
  {
   "cell_type": "code",
   "execution_count": 10,
   "id": "c1d988af",
   "metadata": {},
   "outputs": [
    {
     "data": {
      "text/plain": [
       "True"
      ]
     },
     "execution_count": 10,
     "metadata": {},
     "output_type": "execute_result"
    }
   ],
   "source": [
    "reachy.is_off()\n",
    "# reachy.is_on() # will return False"
   ]
  },
  {
   "cell_type": "markdown",
   "id": "28adc5a8",
   "metadata": {},
   "source": [
    "Let's get the info about the robot (hardware and software versions, config, and battery level):"
   ]
  },
  {
   "cell_type": "code",
   "execution_count": 2,
   "id": "a86fc2dc",
   "metadata": {},
   "outputs": [
    {
     "data": {
      "text/plain": [
       "<reachy2_sdk.config.reachy_info.ReachyInfo at 0x7f0350de6710>"
      ]
     },
     "execution_count": 2,
     "metadata": {},
     "output_type": "execute_result"
    }
   ],
   "source": [
    "reachy.info"
   ]
  },
  {
   "cell_type": "markdown",
   "id": "d155f27d",
   "metadata": {},
   "source": [
    "These information can be accessed independently, for instance:"
   ]
  },
  {
   "cell_type": "code",
   "execution_count": 4,
   "id": "8ca98240",
   "metadata": {},
   "outputs": [
    {
     "data": {
      "text/plain": [
       "30.0"
      ]
     },
     "execution_count": 4,
     "metadata": {},
     "output_type": "execute_result"
    }
   ],
   "source": [
    "reachy.info.battery_voltage"
   ]
  },
  {
   "cell_type": "markdown",
   "id": "eb784543",
   "metadata": {},
   "source": [
    "## Body parts"
   ]
  },
  {
   "cell_type": "markdown",
   "id": "9787373a",
   "metadata": {},
   "source": [
    "Let's have a look at Reachy's body. Reachy's arm offers 7 degrees of freedom. It also gives access to one joint for the gripper.  \n",
    "The **arm** is divided as follow:\n",
    "- **shoulder**, composed of 2 joints (pitch and roll)\n",
    "- **elbow**, composed of 2 joints (yaw and pitch)\n",
    "- **wrist**, composed of 3 joints (roll, pitch and yaw)\n",
    "\n",
    "We refer to the shoulder, elbow and wrist as **actuators**. A joint is basically an axis along which the actuator can rotate.\n",
    "For some actions, such as changing the compliancy, is the the lowest level of control you will have.\n",
    "\n",
    "The head is composed on ona actuator, the **neck** with 3 degrees of freedom (joints).\n",
    "\n",
    "The following command lists all the available joints:"
   ]
  },
  {
   "cell_type": "code",
   "execution_count": 5,
   "id": "c1116bf8",
   "metadata": {},
   "outputs": [
    {
     "data": {
      "text/plain": [
       "{'r_arm.shoulder.pitch': <OrbitaJoint axis_type=\"pitch\" present_position=0.0 goal_position=0.0 >,\n",
       "'r_arm.shoulder.roll': <OrbitaJoint axis_type=\"roll\" present_position=0.0 goal_position=0.0 >,\n",
       "'r_arm.elbow.yaw': <OrbitaJoint axis_type=\"yaw\" present_position=0.0 goal_position=0.0 >,\n",
       "'r_arm.elbow.pitch': <OrbitaJoint axis_type=\"pitch\" present_position=0.0 goal_position=0.0 >,\n",
       "'r_arm.wrist.roll': <OrbitaJoint axis_type=\"roll\" present_position=0.0 goal_position=0.0 >,\n",
       "'r_arm.wrist.pitch': <OrbitaJoint axis_type=\"pitch\" present_position=-0.0 goal_position=-0.0 >,\n",
       "'r_arm.wrist.yaw': <OrbitaJoint axis_type=\"yaw\" present_position=-0.0 goal_position=-0.0 >,\n",
       "'l_arm.shoulder.pitch': <OrbitaJoint axis_type=\"pitch\" present_position=0.0 goal_position=0.0 >,\n",
       "'l_arm.shoulder.roll': <OrbitaJoint axis_type=\"roll\" present_position=0.0 goal_position=0.0 >,\n",
       "'l_arm.elbow.yaw': <OrbitaJoint axis_type=\"yaw\" present_position=0.0 goal_position=0.0 >,\n",
       "'l_arm.elbow.pitch': <OrbitaJoint axis_type=\"pitch\" present_position=0.0 goal_position=0.0 >,\n",
       "'l_arm.wrist.roll': <OrbitaJoint axis_type=\"roll\" present_position=0.0 goal_position=0.0 >,\n",
       "'l_arm.wrist.pitch': <OrbitaJoint axis_type=\"pitch\" present_position=-0.0 goal_position=-0.0 >,\n",
       "'l_arm.wrist.yaw': <OrbitaJoint axis_type=\"yaw\" present_position=-0.0 goal_position=-0.0 >,\n",
       "'head.neck.roll': <OrbitaJoint axis_type=\"roll\" present_position=0.0 goal_position=0.0 >,\n",
       "'head.neck.pitch': <OrbitaJoint axis_type=\"pitch\" present_position=0.0 goal_position=0.0 >,\n",
       "'head.neck.yaw': <OrbitaJoint axis_type=\"yaw\" present_position=0.0 goal_position=0.0 >}"
      ]
     },
     "execution_count": 5,
     "metadata": {},
     "output_type": "execute_result"
    }
   ],
   "source": [
    "reachy.joints"
   ]
  },
  {
   "cell_type": "markdown",
   "id": "dbb73dd7",
   "metadata": {},
   "source": [
    "The current and goal position are also listed (i.e. the present and target angle of the joints). \n",
    "Each body part can be explored individually"
   ]
  },
  {
   "cell_type": "code",
   "execution_count": 7,
   "id": "f135ac9a",
   "metadata": {},
   "outputs": [
    {
     "data": {
      "text/plain": [
       "{'shoulder.pitch': <OrbitaJoint axis_type=\"pitch\" present_position=0.0 goal_position=0.0 >,\n",
       "'shoulder.roll': <OrbitaJoint axis_type=\"roll\" present_position=0.0 goal_position=0.0 >,\n",
       "'elbow.yaw': <OrbitaJoint axis_type=\"yaw\" present_position=0.0 goal_position=0.0 >,\n",
       "'elbow.pitch': <OrbitaJoint axis_type=\"pitch\" present_position=0.0 goal_position=0.0 >,\n",
       "'wrist.roll': <OrbitaJoint axis_type=\"roll\" present_position=0.0 goal_position=0.0 >,\n",
       "'wrist.pitch': <OrbitaJoint axis_type=\"pitch\" present_position=-0.0 goal_position=-0.0 >,\n",
       "'wrist.yaw': <OrbitaJoint axis_type=\"yaw\" present_position=-0.0 goal_position=-0.0 >}"
      ]
     },
     "execution_count": 7,
     "metadata": {},
     "output_type": "execute_result"
    }
   ],
   "source": [
    "reachy.r_arm.joints\n",
    "# reachy.l_arm.joints\n",
    "# reachy.head"
   ]
  },
  {
   "cell_type": "markdown",
   "id": "07156e26",
   "metadata": {},
   "source": [
    "## Mobile Base"
   ]
  },
  {
   "cell_type": "markdown",
   "id": "8f38abb4",
   "metadata": {},
   "source": [
    "The mobile base can be accessed like the body part"
   ]
  },
  {
   "cell_type": "code",
   "execution_count": 9,
   "id": "72aebe9b",
   "metadata": {},
   "outputs": [
    {
     "ename": "AttributeError",
     "evalue": "mobile_base does not exist with this configuration",
     "output_type": "error",
     "traceback": [
      "\u001b[0;31m---------------------------------------------------------------------------\u001b[0m",
      "\u001b[0;31mAttributeError\u001b[0m                            Traceback (most recent call last)",
      "Cell \u001b[0;32mIn[9], line 1\u001b[0m\n\u001b[0;32m----> 1\u001b[0m \u001b[43mreachy\u001b[49m\u001b[38;5;241;43m.\u001b[39;49m\u001b[43mmobile_base\u001b[49m\n",
      "File \u001b[0;32m~/Dev/Python/reachy2-sdk/src/reachy2_sdk/reachy_sdk.py:227\u001b[0m, in \u001b[0;36mReachySDK.mobile_base\u001b[0;34m(self)\u001b[0m\n\u001b[1;32m    225\u001b[0m \u001b[38;5;250m\u001b[39m\u001b[38;5;124;03m\"\"\"Get Reachy's mobile base.\"\"\"\u001b[39;00m\n\u001b[1;32m    226\u001b[0m \u001b[38;5;28;01mif\u001b[39;00m \u001b[38;5;129;01mnot\u001b[39;00m \u001b[38;5;28mhasattr\u001b[39m(\u001b[38;5;28mself\u001b[39m, \u001b[38;5;124m\"\u001b[39m\u001b[38;5;124m_mobile_base\u001b[39m\u001b[38;5;124m\"\u001b[39m) \u001b[38;5;129;01mor\u001b[39;00m \u001b[38;5;28mself\u001b[39m\u001b[38;5;241m.\u001b[39m_mobile_base \u001b[38;5;129;01mis\u001b[39;00m \u001b[38;5;28;01mNone\u001b[39;00m:\n\u001b[0;32m--> 227\u001b[0m     \u001b[38;5;28;01mraise\u001b[39;00m \u001b[38;5;167;01mAttributeError\u001b[39;00m(\u001b[38;5;124m\"\u001b[39m\u001b[38;5;124mmobile_base does not exist with this configuration\u001b[39m\u001b[38;5;124m\"\u001b[39m)\n\u001b[1;32m    228\u001b[0m \u001b[38;5;28;01mreturn\u001b[39;00m \u001b[38;5;28mself\u001b[39m\u001b[38;5;241m.\u001b[39m_mobile_base\n",
      "\u001b[0;31mAttributeError\u001b[0m: mobile_base does not exist with this configuration"
     ]
    }
   ],
   "source": [
    "reachy.mobile_base"
   ]
  },
  {
   "cell_type": "markdown",
   "id": "ddbbcb67",
   "metadata": {},
   "source": [
    "## Disconnect"
   ]
  },
  {
   "cell_type": "markdown",
   "id": "1b0a56d2",
   "metadata": {},
   "source": [
    "Nothing to do, just exit your terminal or notebook!\n",
    "\n",
    "What if I want to connect to another Reachy? \n",
    "For now, it is not possible to connect to multiple robot at the same time from one python kernel (terminal or notebook). But if you need to switch between robots, you can disconnect from one and then connect to another:"
   ]
  },
  {
   "cell_type": "code",
   "execution_count": 11,
   "id": "0cb3f2c0",
   "metadata": {},
   "outputs": [
    {
     "name": "stderr",
     "output_type": "stream",
     "text": [
      "Connection with Reachy lost, check the sdk server status.\n"
     ]
    },
    {
     "ename": "AttributeError",
     "evalue": "can't delete attribute 'mobile_base'",
     "output_type": "error",
     "traceback": [
      "\u001b[0;31m---------------------------------------------------------------------------\u001b[0m",
      "\u001b[0;31mAttributeError\u001b[0m                            Traceback (most recent call last)",
      "Cell \u001b[0;32mIn[11], line 1\u001b[0m\n\u001b[0;32m----> 1\u001b[0m \u001b[43mreachy\u001b[49m\u001b[38;5;241;43m.\u001b[39;49m\u001b[43mdisconnect\u001b[49m\u001b[43m(\u001b[49m\u001b[43m)\u001b[49m\n\u001b[1;32m      2\u001b[0m ReachySDK\u001b[38;5;241m.\u001b[39mclear()\n\u001b[1;32m      3\u001b[0m reachy \u001b[38;5;241m=\u001b[39m ReachySDK(host\u001b[38;5;241m=\u001b[39m\u001b[38;5;124m'\u001b[39m\u001b[38;5;124mlocalhost\u001b[39m\u001b[38;5;124m'\u001b[39m)\n",
      "File \u001b[0;32m~/Dev/Python/reachy2-sdk/src/reachy2_sdk/reachy_sdk.py:171\u001b[0m, in \u001b[0;36mReachySDK.disconnect\u001b[0;34m(self)\u001b[0m\n\u001b[1;32m    147\u001b[0m \u001b[38;5;28;01mfor\u001b[39;00m attr \u001b[38;5;129;01min\u001b[39;00m attributs:\n\u001b[1;32m    148\u001b[0m     \u001b[38;5;28;01mif\u001b[39;00m attr \u001b[38;5;129;01mnot\u001b[39;00m \u001b[38;5;129;01min\u001b[39;00m [\n\u001b[1;32m    149\u001b[0m         \u001b[38;5;124m\"\u001b[39m\u001b[38;5;124mis_connected\u001b[39m\u001b[38;5;124m\"\u001b[39m,\n\u001b[1;32m    150\u001b[0m         \u001b[38;5;124m\"\u001b[39m\u001b[38;5;124mconnect\u001b[39m\u001b[38;5;124m\"\u001b[39m,\n\u001b[0;32m   (...)\u001b[0m\n\u001b[1;32m    169\u001b[0m         \u001b[38;5;124m\"\u001b[39m\u001b[38;5;124mis_move_playing\u001b[39m\u001b[38;5;124m\"\u001b[39m,\n\u001b[1;32m    170\u001b[0m     ]:\n\u001b[0;32m--> 171\u001b[0m         \u001b[38;5;28;43mdelattr\u001b[39;49m\u001b[43m(\u001b[49m\u001b[38;5;28;43mself\u001b[39;49m\u001b[43m,\u001b[49m\u001b[43m \u001b[49m\u001b[43mattr\u001b[49m\u001b[43m)\u001b[49m\n\u001b[1;32m    173\u001b[0m \u001b[38;5;28mself\u001b[39m\u001b[38;5;241m.\u001b[39m_head \u001b[38;5;241m=\u001b[39m \u001b[38;5;28;01mNone\u001b[39;00m\n\u001b[1;32m    174\u001b[0m \u001b[38;5;28mself\u001b[39m\u001b[38;5;241m.\u001b[39m_r_arm \u001b[38;5;241m=\u001b[39m \u001b[38;5;28;01mNone\u001b[39;00m\n",
      "\u001b[0;31mAttributeError\u001b[0m: can't delete attribute 'mobile_base'"
     ]
    },
    {
     "name": "stderr",
     "output_type": "stream",
     "text": [
      "Exception in thread Thread-5 (_start_sync_in_bg):\n",
      "Traceback (most recent call last):\n",
      "  File \"/home/fabien/miniconda3/envs/sdkv2/lib/python3.10/threading.py\", line 1009, in _bootstrap_inner\n",
      "    self.run()\n",
      "  File \"/home/fabien/miniconda3/envs/sdkv2/lib/python3.10/threading.py\", line 946, in run\n",
      "    self._target(*self._args, **self._kwargs)\n",
      "  File \"/home/fabien/Dev/Python/reachy2-sdk/src/reachy2_sdk/reachy_sdk.py\", line 454, in _start_sync_in_bg\n",
      "    self.disconnect()\n",
      "  File \"/home/fabien/Dev/Python/reachy2-sdk/src/reachy2_sdk/reachy_sdk.py\", line 171, in disconnect\n",
      "    delattr(self, attr)\n",
      "AttributeError: can't delete attribute 'mobile_base'\n"
     ]
    }
   ],
   "source": [
    "reachy.disconnect()\n",
    "ReachySDK.clear()\n",
    "reachy = ReachySDK(host='localhost') # connect to a new robot"
   ]
  }
 ],
 "metadata": {
  "kernelspec": {
   "display_name": "Python 3 (ipykernel)",
   "language": "python",
   "name": "python3"
  },
  "language_info": {
   "codemirror_mode": {
    "name": "ipython",
    "version": 3
   },
   "file_extension": ".py",
   "mimetype": "text/x-python",
   "name": "python",
   "nbconvert_exporter": "python",
   "pygments_lexer": "ipython3",
   "version": "3.10.0"
  }
 },
 "nbformat": 4,
 "nbformat_minor": 5
}
