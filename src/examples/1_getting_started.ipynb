{
 "cells": [
  {
   "cell_type": "markdown",
   "id": "0c52fc2b",
   "metadata": {},
   "source": [
    "# Getting started with Reachy 2"
   ]
  },
  {
   "cell_type": "markdown",
   "id": "b3b79886",
   "metadata": {},
   "source": [
    "In this first tutorial, we will familiarize ourselves with Reachy. We will cover how to connect to the robot and obtain basic information."
   ]
  },
  {
   "cell_type": "markdown",
   "id": "1f35ddce",
   "metadata": {},
   "source": [
    "## Connect to Reachy"
   ]
  },
  {
   "cell_type": "markdown",
   "id": "f226e41b",
   "metadata": {},
   "source": [
    "First, establish a connection to your robot:"
   ]
  },
  {
   "cell_type": "code",
   "execution_count": null,
   "id": "f2d8265b",
   "metadata": {},
   "outputs": [],
   "source": [
    "from reachy2_sdk import ReachySDK\n",
    "\n",
    "reachy = ReachySDK(host='localhost')  # Replace with the actual IP"
   ]
  },
  {
   "cell_type": "markdown",
   "id": "245fc9b2",
   "metadata": {},
   "source": [
    "You can check the connection status at any time with:"
   ]
  },
  {
   "cell_type": "code",
   "execution_count": null,
   "id": "1e218be1",
   "metadata": {},
   "outputs": [],
   "source": [
    "reachy.is_connected()"
   ]
  },
  {
   "cell_type": "markdown",
   "id": "a7196684",
   "metadata": {},
   "source": [
    "Reachy is now ready for use. By default, all motors are turned off. In the next tutorial, we will learn how to move Reachy. The overall status of Reachy's motors can be checked as follows:"
   ]
  },
  {
   "cell_type": "code",
   "execution_count": null,
   "id": "c1d988af",
   "metadata": {},
   "outputs": [],
   "source": [
    "reachy.is_off()\n",
    "# reachy.is_on() # will return False"
   ]
  },
  {
   "cell_type": "markdown",
   "id": "28adc5a8",
   "metadata": {},
   "source": [
    "Let's retrieve information about the robot, including hardware and software versions, configuration, and battery level:"
   ]
  },
  {
   "cell_type": "code",
   "execution_count": null,
   "id": "a86fc2dc",
   "metadata": {},
   "outputs": [],
   "source": [
    "reachy.info"
   ]
  },
  {
   "cell_type": "markdown",
   "id": "d155f27d",
   "metadata": {},
   "source": [
    "You can also access this information independently, for example:"
   ]
  },
  {
   "cell_type": "code",
   "execution_count": null,
   "id": "8ca98240",
   "metadata": {},
   "outputs": [],
   "source": [
    "reachy.info.battery_voltage"
   ]
  },
  {
   "cell_type": "markdown",
   "id": "eb784543",
   "metadata": {},
   "source": [
    "## Body parts"
   ]
  },
  {
   "cell_type": "markdown",
   "id": "9787373a",
   "metadata": {},
   "source": [
    "Let's take a look at Reachy's body. Reachy's arm has 7 degrees of freedom and one joint for the gripper.\n",
    "\n",
    "The **arm** is divided into the following parts:\n",
    "- **shoulder**, consisting of 2 joints (pitch and roll)\n",
    "- **elbow**, consisting of 2 joints (yaw and pitch)\n",
    "- **wrist**, consisting of 3 joints (roll, pitch, and yaw)\n",
    "\n",
    "We refer to the shoulder, elbow, and wrist as **actuators**. A joint is essentially an axis along which the actuator can rotate.\n",
    "For some actions, such as changing the compliancy, this is the lowest level of control you will have.\n",
    "\n",
    "The head consists of one actuator, the **neck**, with 3 degrees of freedom (joints).\n",
    "\n",
    "The following command lists all available joints:"
   ]
  },
  {
   "cell_type": "code",
   "execution_count": null,
   "id": "c1116bf8",
   "metadata": {},
   "outputs": [],
   "source": [
    "reachy.joints"
   ]
  },
  {
   "cell_type": "markdown",
   "id": "dbb73dd7",
   "metadata": {},
   "source": [
    "The current and goal positions are also listed (i.e., the present and target angles of the joints).\n",
    "Each body part can be explored individually:"
   ]
  },
  {
   "cell_type": "code",
   "execution_count": null,
   "id": "f135ac9a",
   "metadata": {},
   "outputs": [],
   "source": [
    "reachy.r_arm.joints\n",
    "# reachy.l_arm.joints\n",
    "# reachy.head"
   ]
  },
  {
   "cell_type": "markdown",
   "id": "07156e26",
   "metadata": {},
   "source": [
    "## Mobile Base"
   ]
  },
  {
   "cell_type": "markdown",
   "id": "8f38abb4",
   "metadata": {},
   "source": [
    "The mobile base can be accessed in the same way as the body parts:"
   ]
  },
  {
   "cell_type": "code",
   "execution_count": null,
   "id": "72aebe9b",
   "metadata": {},
   "outputs": [],
   "source": [
    "reachy.mobile_base"
   ]
  },
  {
   "cell_type": "markdown",
   "id": "ddbbcb67",
   "metadata": {},
   "source": [
    "## Disconnect"
   ]
  },
  {
   "cell_type": "markdown",
   "id": "1b0a56d2",
   "metadata": {},
   "source": [
    "No action is required; simply close your terminal or notebook!\n",
    "\n",
    "What if I want to connect to another Reachy?\n",
    "Currently, it is not possible to connect to multiple robots simultaneously from a single Python kernel (terminal or notebook). However, if you need to switch between robots, you can disconnect from one and then connect to another:"
   ]
  },
  {
   "cell_type": "code",
   "execution_count": null,
   "id": "0cb3f2c0",
   "metadata": {},
   "outputs": [],
   "source": [
    "reachy.disconnect()\n",
    "ReachySDK.clear()\n",
    "reachy = ReachySDK(host='localhost') # connect to a new robot"
   ]
  }
 ],
 "metadata": {
  "kernelspec": {
   "display_name": "Python 3 (ipykernel)",
   "language": "python",
   "name": "python3"
  },
  "language_info": {
   "codemirror_mode": {
    "name": "ipython",
    "version": 3
   },
   "file_extension": ".py",
   "mimetype": "text/x-python",
   "name": "python",
   "nbconvert_exporter": "python",
   "pygments_lexer": "ipython3",
   "version": "3.10.0"
  }
 },
 "nbformat": 4,
 "nbformat_minor": 5
}
