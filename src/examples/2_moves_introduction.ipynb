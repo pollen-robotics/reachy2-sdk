{
 "cells": [
  {
   "attachments": {},
   "cell_type": "markdown",
   "id": "0",
   "metadata": {},
   "source": [
    "# Moves introduction"
   ]
  },
  {
   "attachments": {},
   "cell_type": "markdown",
   "id": "1",
   "metadata": {},
   "source": [
    "ReachySDK for Reachy 2 offers you methods to make movements with the arms and head, controlling the target position in several ways, choosing the duration of the movement, or even the interpolation mode. We called them **Moves**.\n",
    "\n",
    "Those methods work the same way on the left and right arms and on the head, **but not on the mobile base**.\n",
    "\n",
    "The methods to use in order to control the robot are:\n",
    "- for the arms:\n",
    "    - `goto_joints()`: you control directly the goal position of each joint of the arm, in degrees\n",
    "    - `goto_from_matrix()`: you control the target pose of the end effector in the robot's coordinate system, from a 4x4 homogeneous matrix\n",
    "- for the head:\n",
    "    - `look_at()`: you control the head by giving a point in the robot coordinate system the head will look at\n",
    "    - `goto_joints()`: you control directly the roll, pitch and yaw goal positions of the neck, in degrees\n",
    "    - `orient()`: you control the head orientation with a quaternion\n"
   ]
  },
  {
   "attachments": {},
   "cell_type": "markdown",
   "id": "2",
   "metadata": {},
   "source": [
    "## Initialize to your robot"
   ]
  },
  {
   "attachments": {},
   "cell_type": "markdown",
   "id": "3",
   "metadata": {},
   "source": [
    "Connect to your robot:"
   ]
  },
  {
   "cell_type": "code",
   "execution_count": null,
   "id": "4",
   "metadata": {},
   "outputs": [],
   "source": [
    "from reachy2_sdk import ReachySDK\n",
    "import time # used for time.sleep() later in the tutorial\n",
    "\n",
    "reachy = ReachySDK('localhost')  # set your robot's IP address here"
   ]
  },
  {
   "attachments": {},
   "cell_type": "markdown",
   "id": "5",
   "metadata": {},
   "source": [
    "Turn on Reachy so the motors can be controlled, and set in the zero pose:"
   ]
  },
  {
   "cell_type": "code",
   "execution_count": null,
   "id": "6",
   "metadata": {},
   "outputs": [],
   "source": [
    "reachy.turn_on()\n",
    "\n",
    "reachy.set_pose('default')"
   ]
  },
  {
   "attachments": {},
   "cell_type": "markdown",
   "id": "7",
   "metadata": {},
   "source": [
    "`set_pose('default')` is a convenient function to reset all motors position at once. It also accepts the parameter elbow_90 (i.e. `set_pose('elbow_90')`), Reachy has the two forearms parallel to the ground. These standard poses can be useful when you want to start a new task from a known position."
   ]
  },
  {
   "attachments": {},
   "cell_type": "markdown",
   "id": "8",
   "metadata": {},
   "source": [
    "> This example is available in [set_zero_pose.py](set_zero_pose.py)"
   ]
  },
  {
   "attachments": {},
   "cell_type": "markdown",
   "id": "9",
   "metadata": {},
   "source": [
    "## The Moves"
   ]
  },
  {
   "attachments": {},
   "cell_type": "markdown",
   "id": "10",
   "metadata": {},
   "source": [
    "### First move"
   ]
  },
  {
   "attachments": {},
   "cell_type": "markdown",
   "id": "11",
   "metadata": {},
   "source": [
    "Let's move Reachy's right arm. The *goto_joints* allows to control the 7 degrees of freedom of the arm at once (see [getting_started](1_getting_started.ipynb))"
   ]
  },
  {
   "cell_type": "code",
   "execution_count": null,
   "id": "12",
   "metadata": {},
   "outputs": [],
   "source": [
    "move_1 = reachy.r_arm.goto_joints([10, -10, 0, -90, 0, 0, 0])\n",
    "\n",
    "print(f'move 1 {move_1}')"
   ]
  },
  {
   "attachments": {},
   "cell_type": "markdown",
   "id": "13",
   "metadata": {},
   "source": [
    "This method returns an id, that you can use to get information on this movement or to cancel this movement. Store this id in a variable (*move_1* here) to be able to use it further. All the move methods return an id."
   ]
  },
  {
   "attachments": {},
   "cell_type": "markdown",
   "id": "14",
   "metadata": {},
   "source": [
    "### Moves execution"
   ]
  },
  {
   "attachments": {},
   "cell_type": "markdown",
   "id": "15",
   "metadata": {},
   "source": [
    "Move commands can only be sent on parts:\n",
    "- reachy.l_arm\n",
    "- reachy.r_arm\n",
    "- reachy.head\n",
    "\n",
    "There are two importants concept to be aware of: moves are stacked for a part (i.e. they run one after another), but each part is independent (i.e. a move for the left arm will run in parallel to a move for the right arm)."
   ]
  },
  {
   "attachments": {},
   "cell_type": "markdown",
   "id": "16",
   "metadata": {},
   "source": [
    "#### Moves are non-blocking for other parts "
   ]
  },
  {
   "attachments": {},
   "cell_type": "markdown",
   "id": "17",
   "metadata": {},
   "source": [
    "It means you can send a move command on different parts, it won't wait for the movement to be executed on the first part to execute the other one, but will follow the timing of your code.\n",
    "\n",
    "Let's take an example with the following sequence:"
   ]
  },
  {
   "cell_type": "code",
   "execution_count": null,
   "id": "18",
   "metadata": {},
   "outputs": [],
   "source": [
    "reachy.set_pose('default')\n",
    "reachy.l_arm.goto_joints([0, 0, 0, -90, 0, 0, 0], duration = 3)\n",
    "time.sleep(1)\n",
    "reachy.r_arm.goto_joints([0, 0, 0, -90, 0, 0, 0], duration = 2)"
   ]
  },
  {
   "attachments": {},
   "cell_type": "markdown",
   "id": "19",
   "metadata": {},
   "source": [
    "This sequence will take 3 seconds to execute, as the right arm will start its movement 1 second after the left arm has started its own movement. They will finish at the same time."
   ]
  },
  {
   "attachments": {},
   "cell_type": "markdown",
   "id": "20",
   "metadata": {},
   "source": [
    "#### Moves are blocking and stacked for a part"
   ]
  },
  {
   "attachments": {},
   "cell_type": "markdown",
   "id": "21",
   "metadata": {},
   "source": [
    "It means that you can send several move commands on a part one after another without any delay, they will be played in this order, but will wait for the previous move to be finished.  \n",
    "\n",
    "Let's take an example with the following sequence:"
   ]
  },
  {
   "cell_type": "code",
   "execution_count": null,
   "id": "22",
   "metadata": {},
   "outputs": [],
   "source": [
    "reachy.set_pose('default')\n",
    "reachy.l_arm.goto_joints([0, 0, 0, -90, 0, 0, 0], duration = 3)\n",
    "reachy.l_arm.goto_joints([0, 0, 0, 0, 0, 0, 0], duration = 2)\n",
    "reachy.l_arm.goto_joints([0, 0, 0, -90, 0, 0, 0], duration = 3)"
   ]
  },
  {
   "attachments": {},
   "cell_type": "markdown",
   "id": "23",
   "metadata": {},
   "source": [
    "This sequence will take 8 seconds to execute, as each movement on the left arm will wait for the previous before starting.  \n",
    "\n",
    "Nevertheless, you can still send move commands to other parts."
   ]
  },
  {
   "cell_type": "code",
   "execution_count": null,
   "id": "24",
   "metadata": {},
   "outputs": [],
   "source": [
    "reachy.set_pose('default')\n",
    "reachy.l_arm.goto_joints([0, 0, 0, -90, 0, 0, 0], duration = 3)  #1\n",
    "time.sleep(1)\n",
    "reachy.l_arm.goto_joints([0, 0, 0, 0, 0, 0, 0], duration = 2)  #2\n",
    "reachy.l_arm.goto_joints([0, 0, 0, -90, 0, 0, 0], duration = 3)  #3\n",
    "reachy.r_arm.goto_joints([0, 0, 0, -90, 0, 0, 0], duration = 2)  #4"
   ]
  },
  {
   "attachments": {},
   "cell_type": "markdown",
   "id": "25",
   "metadata": {},
   "source": [
    "This sequence will still take 8 seconds to execute:\n",
    "- commands #1, #2 and #3 are sent to the left arm. They will be stacked on the left arm, and the `time.sleep(1)` won't have any effect . When received, command #2 will simply wait 2 seconds rather than 3 secondes in the previous example.\n",
    "- commands #4 is sent on the right arm, where no movement is progress. It will then start 1 second after command #1 has started, and will then be over approximatively at the same time.\n",
    "\n",
    "The sequence execution order is #1, #4, #2, #3"
   ]
  },
  {
   "attachments": {},
   "cell_type": "markdown",
   "id": "26",
   "metadata": {},
   "source": [
    "#### Wait for moves"
   ]
  },
  {
   "attachments": {},
   "cell_type": "markdown",
   "id": "27",
   "metadata": {},
   "source": [
    "So how can a left arm move wait for a right arm move?\n",
    "That'simple with the `is_move_finished` method!"
   ]
  },
  {
   "cell_type": "code",
   "execution_count": null,
   "id": "28",
   "metadata": {},
   "outputs": [],
   "source": [
    "reachy.set_pose('default')\n",
    "r_move = reachy.r_arm.goto_joints([0, 0, 0, -90, 0, 0, 0], duration=2)\n",
    "\n",
    "while not reachy.is_move_finished(r_move):\n",
    "    time.sleep(0.1)\n",
    "\n",
    "reachy.l_arm.goto_joints([0, 0, 0, -90, 0, 0, 0], duration=2)"
   ]
  },
  {
   "attachments": {},
   "cell_type": "markdown",
   "id": "29",
   "metadata": {},
   "source": [
    "### Moves state"
   ]
  },
  {
   "attachments": {},
   "cell_type": "markdown",
   "id": "30",
   "metadata": {},
   "source": [
    "For a specific move, you may want to know its current state. You can get information on the moves given its id with 3 methods available at reachy's level:\n",
    "- **`is_move_playing()`**: return True if the movement is currently being played\n",
    "- **`is_move_finished()`**: return True if the movement is over, but also if it won't be played because it has been cancelled for example\n",
    "- **`get_move_joints_request()`**: will return the joints goal positions sent to the part by the corresponding move command \n",
    "\n",
    "Let's take an example:"
   ]
  },
  {
   "attachments": {},
   "cell_type": "markdown",
   "id": "31",
   "metadata": {},
   "source": [
    "First, let's wait for all the queue to be finished, in case movements are still playing:"
   ]
  },
  {
   "cell_type": "code",
   "execution_count": null,
   "id": "32",
   "metadata": {},
   "outputs": [],
   "source": [
    "reachy.set_pose('default')\n",
    "while len(reachy.l_arm.get_moves_queue()) != 0 or len(reachy.r_arm.get_moves_queue()) != 0:\n",
    "    time.sleep(0.5)\n",
    "while reachy.l_arm.get_move_playing().id != -1 or reachy.r_arm.get_move_playing().id != -1:\n",
    "    time.sleep(0.5)"
   ]
  },
  {
   "cell_type": "code",
   "execution_count": null,
   "id": "33",
   "metadata": {},
   "outputs": [],
   "source": [
    "move_1 = reachy.l_arm.goto_joints([0, 0, 0, -90, 0, 0, 0], duration = 3)\n",
    "\n",
    "time.sleep(1)\n",
    "\n",
    "# Move is currently being played\n",
    "move1_is_playing = reachy.is_move_playing(move_1)\n",
    "print(f'After 1 second, move 1 is playing : {move1_is_playing}')\n",
    "move1_is_finished = reachy.is_move_finished(move_1)\n",
    "print(f'After 1 second, move 1 is finished : {move1_is_finished}\\n')\n",
    "\n",
    "time.sleep(3)\n",
    "\n",
    "# Move is now over\n",
    "move1_is_playing = reachy.is_move_playing(move_1)\n",
    "print(f'After 4 seconds, move 1 is playing : {move1_is_playing}')\n",
    "move1_is_finished = reachy.is_move_finished(move_1)\n",
    "print(f'After 4 seconds, move 1 is finished : {move1_is_finished}')"
   ]
  },
  {
   "attachments": {},
   "cell_type": "markdown",
   "id": "34",
   "metadata": {},
   "source": [
    "Retreive the joints request of a move command from the move ID:"
   ]
  },
  {
   "cell_type": "code",
   "execution_count": null,
   "id": "35",
   "metadata": {},
   "outputs": [],
   "source": [
    "reachy.get_move_joints_request(move_1)"
   ]
  },
  {
   "attachments": {},
   "cell_type": "markdown",
   "id": "36",
   "metadata": {},
   "source": [
    "### Part execution state"
   ]
  },
  {
   "attachments": {},
   "cell_type": "markdown",
   "id": "37",
   "metadata": {},
   "source": [
    "As the sequence can become complex, you can get information for each part on its current status, to now which movement is being played and know which others are waiting to be played.  \n",
    "For each part, the following methods are available:\n",
    "- **`get_move_playing()`**: will return the id of the currently playing move on the part\n",
    "- **`get_moves_queue()`**: will return the ids of all stacked move commands waiting to be played on the part\n",
    "\n",
    "Those methods are called at the part level, to get info on the state of the part.  \n",
    "For example:"
   ]
  },
  {
   "cell_type": "code",
   "execution_count": null,
   "id": "38",
   "metadata": {},
   "outputs": [],
   "source": [
    "reachy.set_pose('default')\n",
    "while reachy.l_arm.get_move_playing().id != -1 or reachy.r_arm.get_move_playing().id != -1:\n",
    "    time.sleep(0.5)\n",
    "\n",
    "# Write a sequence for the left arm\n",
    "reachy.l_arm.goto_joints([0, 0, 0, -90, 0, 0, 0], duration = 3)  # id=1\n",
    "reachy.l_arm.goto_joints([0, 0, 0, 0, 0, 0, 0], duration = 2)  # id=2\n",
    "reachy.l_arm.goto_joints([0, 0, 0, -90, 0, 0, 0], duration = 3)  # id=3\n",
    "\n",
    "# Move #1 is currently playing\n",
    "current_move = reachy.l_arm.get_move_playing()\n",
    "print(f'current move id: {current_move}')\n",
    "print(f'l_arm queue length: {len(reachy.l_arm.get_moves_queue())}')"
   ]
  },
  {
   "attachments": {},
   "cell_type": "markdown",
   "id": "39",
   "metadata": {},
   "source": [
    "### Cancel moves"
   ]
  },
  {
   "attachments": {},
   "cell_type": "markdown",
   "id": "40",
   "metadata": {},
   "source": [
    "If you want to modify the queue of move commands on a part, or interrupt the movement being played, you can cancel move commands at any time.  "
   ]
  },
  {
   "attachments": {},
   "cell_type": "markdown",
   "id": "41",
   "metadata": {},
   "source": [
    "#### Single move cancellation"
   ]
  },
  {
   "attachments": {},
   "cell_type": "markdown",
   "id": "42",
   "metadata": {},
   "source": [
    "To cancel a single movement, currently playing or stacked in a part's queue, use its id and call `cancel_move_by_id()` from reachy."
   ]
  },
  {
   "cell_type": "code",
   "execution_count": null,
   "id": "43",
   "metadata": {},
   "outputs": [],
   "source": [
    "reachy.set_pose('default')\n",
    "while reachy.l_arm.get_move_playing().id != -1 or reachy.r_arm.get_move_playing().id != -1:\n",
    "    time.sleep(0.5)\n",
    "\n",
    "move_1 = reachy.l_arm.goto_joints([0, 0, 0, -90, 0, 0, 0], duration = 3)\n",
    "\n",
    "time.sleep(1)\n",
    "reachy.cancel_move_by_id(move_1)"
   ]
  },
  {
   "attachments": {},
   "cell_type": "markdown",
   "id": "44",
   "metadata": {},
   "source": [
    "#### Multiple moves cancellation"
   ]
  },
  {
   "attachments": {},
   "cell_type": "markdown",
   "id": "45",
   "metadata": {},
   "source": [
    "To cancel all moves at once, you can call the `cancel_all_moves()` methods.  \n",
    "This method can be called at the level you want to act, which can be either **reachy** or a **specific part**. "
   ]
  },
  {
   "attachments": {},
   "cell_type": "markdown",
   "id": "46",
   "metadata": {},
   "source": [
    "##### All moves"
   ]
  },
  {
   "attachments": {},
   "cell_type": "markdown",
   "id": "47",
   "metadata": {},
   "source": [
    "For example, if you want to cancel all moves on all parts:"
   ]
  },
  {
   "cell_type": "code",
   "execution_count": null,
   "id": "48",
   "metadata": {},
   "outputs": [],
   "source": [
    "reachy.set_pose('default')\n",
    "while reachy.l_arm.get_move_playing().id != -1 or reachy.r_arm.get_move_playing().id != -1 or reachy.head.get_move_playing().id != -1:\n",
    "    time.sleep(0.5)\n",
    "\n",
    "# Send a sequence of moves\n",
    "reachy.head.goto_joints([20, 30, -10], duration=3)\n",
    "reachy.l_arm.goto_joints([0, 0, 0, -90, 0, 0, 0], duration = 3)\n",
    "reachy.l_arm.goto_joints([0, 0, 0, 0, 0, 0, 0], duration = 2)\n",
    "\n",
    "time.sleep(1)\n",
    "\n",
    "# Cancel all moves\n",
    "reachy.cancel_all_moves()"
   ]
  },
  {
   "attachments": {},
   "cell_type": "markdown",
   "id": "49",
   "metadata": {},
   "source": [
    "All movements are cancelled, even the movement stacked in the left arm queue which will never be played.  "
   ]
  },
  {
   "attachments": {},
   "cell_type": "markdown",
   "id": "50",
   "metadata": {},
   "source": [
    "##### All moves for one part"
   ]
  },
  {
   "attachments": {},
   "cell_type": "markdown",
   "id": "51",
   "metadata": {},
   "source": [
    "If you only want to cancel movement on the left arm:"
   ]
  },
  {
   "cell_type": "code",
   "execution_count": null,
   "id": "52",
   "metadata": {},
   "outputs": [],
   "source": [
    "reachy.set_pose('default')\n",
    "while reachy.l_arm.get_move_playing().id != -1 or reachy.r_arm.get_move_playing().id != -1 or reachy.head.get_move_playing().id != -1:\n",
    "    time.sleep(0.5)\n",
    "\n",
    "# Send a sequence of moves\n",
    "reachy.head.goto_joints([20, 30, -10], duration=3)\n",
    "reachy.l_arm.goto_joints([0, 0, 0, -90, 0, 0, 0], duration = 3)\n",
    "reachy.l_arm.goto_joints([0, 0, 0, 0, 0, 0, 0], duration = 2)\n",
    "\n",
    "time.sleep(1)\n",
    "\n",
    "# Cancel moves on left arm only\n",
    "reachy.l_arm.cancel_all_moves()"
   ]
  },
  {
   "attachments": {},
   "cell_type": "markdown",
   "id": "53",
   "metadata": {},
   "source": [
    "The movement on the head will continue, but all the movements of the left will be stopped and the left arm queue cleaned."
   ]
  },
  {
   "attachments": {},
   "cell_type": "markdown",
   "id": "54",
   "metadata": {},
   "source": [
    "## Moves duration"
   ]
  },
  {
   "attachments": {},
   "cell_type": "markdown",
   "id": "55",
   "metadata": {},
   "source": [
    "You may have noticed that, for each methods mentioned above, you can give a custom duration for the execution of the movements. \n",
    "\n",
    "Simply specify the **`duration`** argument **in seconds** when calling the method, as shown in the move examples above:"
   ]
  },
  {
   "cell_type": "code",
   "execution_count": null,
   "id": "56",
   "metadata": {},
   "outputs": [],
   "source": [
    "reachy.set_pose('default')\n",
    "while reachy.l_arm.get_move_playing().id != -1 or reachy.r_arm.get_move_playing().id != -1 or reachy.head.get_move_playing().id != -1:\n",
    "    time.sleep(0.5)\n",
    "\n",
    "reachy.head.goto_joints([20, 30, -10], duration=3)\n",
    "reachy.l_arm.goto_joints([0, 0, 0, -90, 0, 0, 0], duration = 5)\n",
    "\n",
    "\n",
    "# Doing:\n",
    "reachy.l_arm.goto_joints([0, 0, 0, 0, 0, 0, 0])\n",
    "# will lead to the same result as:\n",
    "reachy.l_arm.goto_joints([0, 0, 0, 0, 0, 0, 0], duration = 2)"
   ]
  },
  {
   "attachments": {},
   "cell_type": "markdown",
   "id": "57",
   "metadata": {},
   "source": [
    "> Default duration is **2 seconds**.\n",
    "\n",
    "You **cannot set a duration to 0 second**. This will raise an exception in your code!\n"
   ]
  },
  {
   "cell_type": "code",
   "execution_count": null,
   "id": "58",
   "metadata": {},
   "outputs": [],
   "source": [
    "reachy.l_arm.goto_joints([0, 0, 0, 0, 0, 0, 0], duration = 0) # raises an exception"
   ]
  },
  {
   "attachments": {},
   "cell_type": "markdown",
   "id": "59",
   "metadata": {},
   "source": [
    "## Moves interpolation mode"
   ]
  },
  {
   "attachments": {},
   "cell_type": "markdown",
   "id": "60",
   "metadata": {},
   "source": [
    "The moves methods generates a trajectory between the present position and the goal position. This trajectory is then interpolated at a predefined frequency (100Hz) to compute all intermediary target positions that should be followed before reaching the final goal position. Depending on the interpolation mode chosen, you can have a better control over speed and acceleration.\n",
    "\n",
    "Two interpolation modes are available when sending a move command:\n",
    "- the **linear** interpolation mode\n",
    "- the **minimum-jerk** interpolation mode\n",
    "\n",
    "Both trajectories start and finish at the same point but don't follow the same intermediate positions. The minimum jerk will slowly accelerate at the begining and slowly decelerate at the end. This makes the movements more natural.\n",
    "\n",
    "You can specify the interpolation mode by setting the **`interpolation_mode`** argument when calling the method:"
   ]
  },
  {
   "cell_type": "code",
   "execution_count": null,
   "id": "61",
   "metadata": {},
   "outputs": [],
   "source": [
    "reachy.set_pose('default')\n",
    "while reachy.l_arm.get_move_playing().id != -1 or reachy.r_arm.get_move_playing().id != -1 or reachy.head.get_move_playing().id != -1:\n",
    "    time.sleep(0.5)\n",
    "\n",
    "reachy.head.goto_joints(20, 30, -10, interpolation_mode='linear')\n",
    "reachy.l_arm.goto_joints([0, 0, 0, -90, 0, 0, 0], interpolation_mode='linear')"
   ]
  },
  {
   "cell_type": "code",
   "execution_count": null,
   "id": "62",
   "metadata": {},
   "outputs": [],
   "source": [
    "# Doing:\n",
    "reachy.l_arm.goto_joints([0, 0, 0, 0, 0, 0, 0])\n",
    "# will lead to the same result as:\n",
    "reachy.l_arm.goto_joints([0, 0, 0, 0, 0, 0, 0], interpolation_mode='minimum_jerk')"
   ]
  },
  {
   "attachments": {},
   "cell_type": "markdown",
   "id": "63",
   "metadata": {},
   "source": [
    "> Default interpolation mode is **minimum_jerk**."
   ]
  },
  {
   "cell_type": "code",
   "execution_count": null,
   "id": "64",
   "metadata": {},
   "outputs": [],
   "source": [
    "reachy.set_pose('default')"
   ]
  }
 ],
 "metadata": {
  "kernelspec": {
   "display_name": "Python 3 (ipykernel)",
   "language": "python",
   "name": "python3"
  },
  "language_info": {
   "codemirror_mode": {
    "name": "ipython",
    "version": 3
   },
   "file_extension": ".py",
   "mimetype": "text/x-python",
   "name": "python",
   "nbconvert_exporter": "python",
   "pygments_lexer": "ipython3",
   "version": "3.10.0"
  }
 },
 "nbformat": 4,
 "nbformat_minor": 5
}
