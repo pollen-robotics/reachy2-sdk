{
 "cells": [
  {
   "cell_type": "markdown",
   "id": "748878af",
   "metadata": {},
   "source": [
    "# Head control"
   ]
  },
  {
   "cell_type": "markdown",
   "id": "9d22811e",
   "metadata": {},
   "source": [
    "Reachy 2's head is mounted on an Orbita3D actuator, referred to as the **neck** actuator, giving 3 degrees of freedom to control the head orientation.  \n",
    "> Note : the antennas are not motorized for the moment\n",
    "\n",
    "Before starting to control the head, connect to your Reachy and turn it on."
   ]
  },
  {
   "cell_type": "markdown",
   "id": "923aca0f",
   "metadata": {},
   "source": [
    "## Initialize your robot"
   ]
  },
  {
   "cell_type": "markdown",
   "id": "5355d81b",
   "metadata": {},
   "source": [
    "First connect to your robot:"
   ]
  },
  {
   "cell_type": "code",
   "execution_count": null,
   "id": "588cbcb7",
   "metadata": {},
   "outputs": [],
   "source": [
    "from reachy2_sdk import ReachySDK\n",
    "\n",
    "reachy = ReachySDK(host='localhost')  # Replace with the actual IP"
   ]
  },
  {
   "cell_type": "markdown",
   "id": "3e47ec7d",
   "metadata": {},
   "source": [
    "Let's check what contains the head part:"
   ]
  },
  {
   "cell_type": "code",
   "execution_count": null,
   "id": "f2d8265b",
   "metadata": {},
   "outputs": [],
   "source": [
    "reachy.head.joints"
   ]
  },
  {
   "cell_type": "markdown",
   "id": "f8dc8c30",
   "metadata": {},
   "source": [
    "The head is composed of **three joints**:\n",
    "- neck.roll\n",
    "- neck.pitch\n",
    "- neck.yaw\n",
    "\n",
    "All joints belong to the same Orbita3D actuator, referred to as the **neck**.\n",
    "\n",
    "To start, we need to turn the head on:"
   ]
  },
  {
   "cell_type": "code",
   "execution_count": null,
   "id": "a0c2d4ab",
   "metadata": {},
   "outputs": [],
   "source": [
    "reachy.head.turn_on()"
   ]
  },
  {
   "cell_type": "markdown",
   "id": "c63162f5",
   "metadata": {},
   "source": [
    "You could of course turn on the whole robot by calling `reachy.turn_on()` directly."
   ]
  },
  {
   "cell_type": "markdown",
   "id": "edf24ed3",
   "metadata": {},
   "source": [
    "## Head moves"
   ]
  },
  {
   "cell_type": "markdown",
   "id": "ee5315dc",
   "metadata": {},
   "source": [
    "There are several ways to control the head movements:\n",
    "- using the `look_at()`, `rotate_to()` and `orient()` methods, called directly at the **head** level. These methods works as in the [moves_introduction](2_moves_introduction.ipynb) example\n",
    "- controlling the joints goal positions, namely **reachy.head.neck.roll**, **reachy.head.neck.pitch** and **reachy.head.neck.yaw**."
   ]
  },
  {
   "cell_type": "markdown",
   "id": "b9402c92",
   "metadata": {},
   "source": [
    "### look_at()\n",
    "\n",
    "You can use the `look_at()` function to make the head look at a specific point in space. This point must be given in Reachy 2's coordinate system in **meters**. The coordinate system is the one we have seen previously:\n",
    "\n",
    "* the X axis corresponds to the foward arrow,\n",
    "* the Y axis corresponds to the right to left arrow,\n",
    "* the Z axis corresponds to the up arrow.\n",
    "\n",
    "The origin of this coordinate system is located in the upper part of the robot trunk.\n",
    "\n",
    "If you want Reachy to look forward you can send it the following."
   ]
  },
  {
   "cell_type": "code",
   "execution_count": null,
   "id": "6744e69c",
   "metadata": {},
   "outputs": [],
   "source": [
    "reachy.head.look_at(x=0.5, y=0, z=0.2, duration=1.0)"
   ]
  },
  {
   "cell_type": "markdown",
   "id": "f43c8934",
   "metadata": {},
   "source": [
    "You can use multiple *look_at* to chain head movements, or even chain them with the `rotate_to()` and `orient()` functions described below. As seen in the moves tutorial, the commands on the head will be stacked.\n",
    "For example:"
   ]
  },
  {
   "cell_type": "code",
   "execution_count": null,
   "id": "b5373062",
   "metadata": {},
   "outputs": [],
   "source": [
    "import time\n",
    "\n",
    "look_right = reachy.head.look_at(x=0.5, y=-0.5, z=0.1, duration=1.0)\n",
    "look_down = reachy.head.look_at(x=0.5, y=0, z=-0.4, duration=1.0)\n",
    "look_left = reachy.head.look_at(x=0.5, y=0.3, z=-0.3, duration=1.0)\n",
    "look_front = reachy.head.look_at(x=0.5, y=0, z=0, duration=1.0)"
   ]
  },
  {
   "cell_type": "markdown",
   "id": "b372f164",
   "metadata": {},
   "source": [
    "The best way to understand how to use the *look_at* is to play with it. Picture a position you would like Reachy's head to be in, guess a point which could match for the *look_at* and check if you got it right!"
   ]
  },
  {
   "cell_type": "markdown",
   "id": "58ee1529",
   "metadata": {},
   "source": [
    "### rotate_to()\n",
    "\n",
    "The `rotate_to()` function is another way to control the head. You directly control the joint of the neck, giving the roll, pitch and yaw angles in degrees. The rotation is made in the order: roll, pitch, yaw, in the Orbita3D coordinate system."
   ]
  },
  {
   "cell_type": "code",
   "execution_count": null,
   "id": "3c513e13",
   "metadata": {},
   "outputs": [],
   "source": [
    "reachy.head.rotate_to(roll=15, pitch=-20, yaw=0, duration=1.0)"
   ]
  },
  {
   "cell_type": "markdown",
   "id": "f2bb6457",
   "metadata": {},
   "source": [
    "### orient()\n",
    "\n",
    "The last method to control the head is the `orient()` method. You can control the head with a quaternion.\n",
    "\n",
    "You can use [pyquaternion library](https://kieranwynn.github.io/pyquaternion/) to create suitable quaternion for this method."
   ]
  },
  {
   "cell_type": "code",
   "execution_count": null,
   "id": "354eae56",
   "metadata": {},
   "outputs": [],
   "source": [
    "from pyquaternion import Quaternion\n",
    "\n",
    "q = Quaternion(axis=[1, 0, 0], angle=3.14159265 / 4) # tilt head about 45° to the right\n",
    "reachy.head.turn_on()\n",
    "reachy.head.orient(q)"
   ]
  },
  {
   "cell_type": "markdown",
   "id": "c49deace",
   "metadata": {},
   "source": [
    "## Read head position\n",
    "\n",
    "You can read the head orientation in two different ways:\n",
    "\n",
    "- using the `get_orientation()` method, which returns a quaternion\n",
    "- using the `get_joints_positions()` method, which the neck's roll, pitch and yaw present_position.\n",
    "\n",
    "### get_orientation()"
   ]
  },
  {
   "cell_type": "code",
   "execution_count": null,
   "id": "5119cbae",
   "metadata": {},
   "outputs": [],
   "source": [
    "q = reachy.head.get_orientation()\n",
    "print(q)"
   ]
  },
  {
   "cell_type": "markdown",
   "id": "45a85811",
   "metadata": {},
   "source": [
    "### get_joints_positions()\n",
    "\n",
    "In case you feel more comfortable using roll, pitch, yaw angles rather than working with quaternions, you can retrieve those values from the **neck joints**."
   ]
  },
  {
   "cell_type": "code",
   "execution_count": null,
   "id": "4a825e47",
   "metadata": {},
   "outputs": [],
   "source": [
    "reachy.head.rotate_to(20, 30, -10)\n",
    "\n",
    "time.sleep(2)\n",
    "\n",
    "reachy.head.get_joints_positions()"
   ]
  },
  {
   "cell_type": "markdown",
   "id": "b966a8a6",
   "metadata": {},
   "source": [
    "Be careful that contrary to the quaternion that offers a unique representation of a rotation, it is not the case of the euler angles. Several angles combination can lead to the same orientation in space. For example:\n"
   ]
  },
  {
   "cell_type": "code",
   "execution_count": null,
   "id": "1eb4d748",
   "metadata": {},
   "outputs": [],
   "source": [
    "reachy.head.rotate_to(70, -100, 80)  #  roll=70, pitch=-100, yaw=80\n",
    "\n",
    "time.sleep(2)\n",
    "\n",
    "reachy.head.get_joints_positions()"
   ]
  },
  {
   "cell_type": "markdown",
   "id": "68833679",
   "metadata": {},
   "source": [
    "The values are different, nevertheless it is the same final orientation. You can convince yourself doing:"
   ]
  },
  {
   "cell_type": "code",
   "execution_count": null,
   "id": "a4e4bd79",
   "metadata": {},
   "outputs": [],
   "source": [
    "reachy.head.rotate_to(-110, -80, -100)"
   ]
  },
  {
   "cell_type": "markdown",
   "id": "e17de027",
   "metadata": {},
   "source": [
    "The head won't move."
   ]
  },
  {
   "cell_type": "code",
   "execution_count": null,
   "id": "26c9469c",
   "metadata": {},
   "outputs": [],
   "source": [
    "reachy.set_pose('zero')\n",
    "reachy.turn_off_smoothly()"
   ]
  }
 ],
 "metadata": {
  "kernelspec": {
   "display_name": "Python 3 (ipykernel)",
   "language": "python",
   "name": "python3"
  },
  "language_info": {
   "codemirror_mode": {
    "name": "ipython",
    "version": 3
   },
   "file_extension": ".py",
   "mimetype": "text/x-python",
   "name": "python",
   "nbconvert_exporter": "python",
   "pygments_lexer": "ipython3",
   "version": "3.10.0"
  }
 },
 "nbformat": 4,
 "nbformat_minor": 5
}
