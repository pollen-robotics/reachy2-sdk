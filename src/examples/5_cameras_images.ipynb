{
 "cells": [
  {
   "cell_type": "markdown",
   "id": "f2d8265b",
   "metadata": {},
   "source": [
    "# Get images from cameras"
   ]
  },
  {
   "cell_type": "markdown",
   "id": "434c4dd6",
   "metadata": {},
   "source": [
    "Reachy 2 has 2 types of camera:\n",
    "\n",
    "- the **teleop** cameras, with a right and left cameras, located in Reachy 2’s head and used for the teleoperation\n",
    "- the **SR** camera, which is a depth camera, located in Reachy 2’s torso and mainly useful for manipulation tasks\n",
    "\n",
    "Each camera can be accessed separately through reachy.cameras. They both have a right and left view, with the left and right sides considered from Reachy point of view. To be able to specify the view you want to get a frame from, you will need to import CameraView:"
   ]
  },
  {
   "cell_type": "markdown",
   "id": "463fc1f2",
   "metadata": {},
   "source": [
    "```python\n",
    "from reachy2_sdk.media.camera import CameraView\n",
    "```"
   ]
  },
  {
   "cell_type": "markdown",
   "id": "05e5804e",
   "metadata": {},
   "source": [
    "## Enable teleop cameras for the SDK"
   ]
  },
  {
   "cell_type": "markdown",
   "id": "6d877068",
   "metadata": {},
   "source": [
    "The teleop cameras are shared between the teleop service and the SDK server, and can only be used by one at the same time.\n",
    "In order to be able to use the teleop cameras with the SDK:\n",
    "\n",
    "1. Go to the dashboard\n",
    "2. Stop webrtc service in the services tab"
   ]
  },
  {
   "cell_type": "markdown",
   "id": "183785aa",
   "metadata": {},
   "source": [
    "## Plug SR camera\n",
    "\n",
    "Plug the SR camera in the back of the computer! They should be unplugged by default."
   ]
  },
  {
   "cell_type": "code",
   "execution_count": null,
   "id": "aa01c580",
   "metadata": {},
   "outputs": [],
   "source": [
    "from reachy2_sdk import ReachySDK\n",
    "import time"
   ]
  },
  {
   "cell_type": "markdown",
   "id": "37f15717",
   "metadata": {},
   "source": [
    "## Get images"
   ]
  },
  {
   "cell_type": "markdown",
   "id": "923aca0f",
   "metadata": {},
   "source": [
    "First, connect to your robot.  \n",
    "**Do not forget to import the CameraView!**"
   ]
  },
  {
   "cell_type": "code",
   "execution_count": null,
   "id": "a0c2d4ab",
   "metadata": {},
   "outputs": [],
   "source": [
    "from reachy2_sdk import ReachySDK\n",
    "from reachy2_sdk.media.camera import CameraView\n",
    "\n",
    "\n",
    "reachy = ReachySDK(host='localhost')  # Replace with the actual IP"
  {
   "cell_type": "markdown",
   "id": "d94a8cbb",
   "metadata": {},
   "source": [
    "Check the list of initialized cameras:"
   ]
  },
  {
   "cell_type": "code",
   "execution_count": null,
   "id": "4d8b32cb",
   "metadata": {},
   "outputs": [],
   "source": [
    "reachy.cameras"
   ]
  },
  {
   "cell_type": "markdown",
   "id": "a822bd8a",
   "metadata": {},
   "source": [
    "The list of initialized cameras should contain both the teleop and SR camera.  \n",
    "\n",
    "For each camera, namely the teleop and the SR ones, you must call the `capture()`function each time you want to get an image. This captures an image from both view of the given camera at the same time. You can then access one of the image with the `get_frame()` method."
   ]
  },
  {
   "cell_type": "markdown",
   "id": "edf24ed3",
   "metadata": {},
   "source": [
    "### Teleop cameras\n",
    "\n",
    "To get both views of the robot teleop cameras:"
   ]
  },
  {
   "cell_type": "code",
   "execution_count": null,
   "id": "f135ac9a",
   "metadata": {},
   "outputs": [],
   "source": [
    "# First call the capture()\n",
    "reachy.cameras.teleop.capture()\n",
    "\n",
    "# Then get the desired frame\n",
    "l_frame = reachy.cameras.teleop.get_frame(CameraView.LEFT)\n",
    "r_frame = reachy.cameras.teleop.get_frame(CameraView.RIGHT)"
   ]
  },
  {
   "cell_type": "markdown",
   "id": "33b015e6",
   "metadata": {},
   "source": [
    "Let's display the captured frame with PIL:"
   ]
  },
  {
   "cell_type": "code",
   "execution_count": null,
   "id": "643822a3",
   "metadata": {},
   "outputs": [],
   "source": [
    "from PIL import Image"
   ]
  },
  {
   "cell_type": "code",
   "execution_count": null,
   "id": "ac408cd3",
   "metadata": {},
   "outputs": [],
   "source": [
    "Image.fromarray(l_frame[:,:,::-1])"
   ]
  },
  {
   "cell_type": "code",
   "execution_count": null,
   "id": "85b5768b",
   "metadata": {},
   "outputs": [],
   "source": [
    "Image.fromarray(r_frame[:,:,::-1])"
   ]
  },
  {
   "cell_type": "markdown",
   "id": "9813fac4",
   "metadata": {},
   "source": [
    "### SR cameras\n",
    "\n",
    "The SR camera works exactly the same as the teleop camera, but you have more elements captured. In fact, it a RGBD camera, so you have both access to the RGB images and depth information.\n",
    "\n"
   ]
  },
  {
   "cell_type": "markdown",
   "id": "4a647d9c",
   "metadata": {},
   "source": [
    "#### RGB images\n",
    "\n",
    "Getting RGB images from the SR camera looks the same as from the teleop one: after having called `capture()`, use `get_frame()` specifying the CameraView you want to get."
   ]
  },
  {
   "cell_type": "code",
   "execution_count": null,
   "id": "bdafbd20",
   "metadata": {},
   "outputs": [],
   "source": [
    "# First call the capture()\n",
    "reachy.cameras.SR.capture()\n",
    "\n",
    "# Then get the desired frames\n",
    "l_frame = reachy.cameras.SR.get_frame(CameraView.LEFT)\n",
    "r_frame = reachy.cameras.SR.get_frame(CameraView.RIGHT)"
   ]
  },
  {
   "cell_type": "markdown",
   "id": "d4f3f69c",
   "metadata": {},
   "source": [
    "Let's display the captured frame with PIL:"
   ]
  },
  {
   "cell_type": "code",
   "execution_count": null,
   "id": "6357ed21",
   "metadata": {},
   "outputs": [],
   "source": [
    "from PIL import Image"
   ]
  },
  {
   "cell_type": "code",
   "execution_count": null,
   "id": "79ea8d53",
   "metadata": {},
   "outputs": [],
   "source": [
    "Image.fromarray(l_frame[:,:,::-1])"
   ]
  },
  {
   "cell_type": "code",
   "execution_count": null,
   "id": "88c0bebc",
   "metadata": {},
   "outputs": [],
   "source": [
    "Image.fromarray(r_frame[:,:,::-1])"
   ]
  },
  {
   "cell_type": "markdown",
   "id": "b4430111",
   "metadata": {},
   "source": [
    "#### Depth information\n",
    "\n",
    "The SR camera is a depth camera, you can then diplay a left or right **depth frame** using `get_depth_frame()`, but also the **depthmap** and the **disparity**.   \n",
    "\n",
    "You first have to capture all, then you can read the frame and get the information you want:"
   ]
  },
  {
   "cell_type": "code",
   "execution_count": null,
   "id": "9fe287fd",
   "metadata": {},
   "outputs": [],
   "source": [
    "# First call the capture()\n",
    "reachy.cameras.SR.capture()\n",
    "\n",
    "# Then retrieve the desired frames\n",
    "l_depth_frame = reachy.cameras.SR.get_depth_frame(CameraView.LEFT)\n",
    "r_depth_frame = reachy.cameras.SR.get_depth_frame(CameraView.RIGHT)\n",
    "depth = reachy.cameras.SR.get_depthmap()\n",
    "disparity = reachy.cameras.SR.get_disparity()"
   ]
  },
  {
   "cell_type": "markdown",
   "id": "0305ec45",
   "metadata": {},
   "source": [
    "Let's display the captured frame with PIL:"
   ]
  },
  {
   "cell_type": "code",
   "execution_count": null,
   "id": "76f482e1",
   "metadata": {},
   "outputs": [],
   "source": [
    "from PIL import Image"
   ]
  },
  {
   "cell_type": "code",
   "execution_count": null,
   "id": "543f6088",
   "metadata": {},
   "outputs": [],
   "source": [
    "Image.fromarray(l_depth_frame[:,:])"
   ]
  },
  {
   "cell_type": "code",
   "execution_count": null,
   "id": "bc824d95",
   "metadata": {},
   "outputs": [],
   "source": [
    "Image.fromarray(r_depth_frame[:,:])"
   ]
  },
  {
   "cell_type": "code",
   "execution_count": null,
   "id": "5345e213",
   "metadata": {},
   "outputs": [],
   "source": [
    "Image.fromarray(depth)"
   ]
  },
  {
   "cell_type": "code",
   "execution_count": null,
   "id": "20a65486",
   "metadata": {},
   "outputs": [],
   "source": [
    "Image.fromarray(disparity)"
   ]
  },
  {
   "cell_type": "markdown",
   "id": "2b90ae6f",
   "metadata": {},
   "source": [
    "## Live stream"
   ]
  },
  {
   "cell_type": "markdown",
   "id": "b155140a",
   "metadata": {},
   "source": [
    "Although we provide an optimal way to get the video stream, it is still possible to display what Reachy see through the SDK. It could be useful to feed a compute vision algorithm that do not need to run at high frequency.\n",
    "\n",
    "This is demonstrate in a decicated script : [cameras.py](cameras.py)"
   ]
  }
 ],
 "metadata": {
  "kernelspec": {
   "display_name": "Python 3 (ipykernel)",
   "language": "python",
   "name": "python3"
  },
  "language_info": {
   "codemirror_mode": {
    "name": "ipython",
    "version": 3
   },
   "file_extension": ".py",
   "mimetype": "text/x-python",
   "name": "python",
   "nbconvert_exporter": "python",
   "pygments_lexer": "ipython3",
   "version": "3.10.12"
  }
 },
 "nbformat": 4,
 "nbformat_minor": 5
}
