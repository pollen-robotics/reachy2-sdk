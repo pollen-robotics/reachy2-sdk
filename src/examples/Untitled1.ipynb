{
 "cells": [
  {
   "cell_type": "code",
   "execution_count": 1,
   "id": "fe478b1d",
   "metadata": {},
   "outputs": [],
   "source": [
    "from reachy2_sdk import ReachySDK\n",
    "import time"
   ]
  },
  {
   "cell_type": "code",
   "execution_count": 2,
   "id": "1529fa16",
   "metadata": {},
   "outputs": [],
   "source": [
    "reachy = ReachySDK('10.0.0.254')"
   ]
  },
  {
   "cell_type": "code",
   "execution_count": 3,
   "id": "3b3b730d",
   "metadata": {},
   "outputs": [
    {
     "data": {
      "text/plain": [
       "True"
      ]
     },
     "execution_count": 3,
     "metadata": {},
     "output_type": "execute_result"
    }
   ],
   "source": [
    "reachy.turn_on()"
   ]
  },
  {
   "cell_type": "code",
   "execution_count": 22,
   "id": "85104782",
   "metadata": {},
   "outputs": [],
   "source": [
    "start = time.time()\n",
    "\n",
    "while time.time()-start < 7:\n",
    "    reachy.mobile_base.set_speed(0, 0, -40)"
   ]
  },
  {
   "cell_type": "code",
   "execution_count": 6,
   "id": "de5ae580",
   "metadata": {},
   "outputs": [],
   "source": [
    "reachy.mobile_base.set_speed(0.5, 0, 0)"
   ]
  },
  {
   "cell_type": "code",
   "execution_count": null,
   "id": "d4a10f48",
   "metadata": {},
   "outputs": [],
   "source": []
  }
 ],
 "metadata": {
  "kernelspec": {
   "display_name": "Python 3 (ipykernel)",
   "language": "python",
   "name": "python3"
  },
  "language_info": {
   "codemirror_mode": {
    "name": "ipython",
    "version": 3
   },
   "file_extension": ".py",
   "mimetype": "text/x-python",
   "name": "python",
   "nbconvert_exporter": "python",
   "pygments_lexer": "ipython3",
   "version": "3.10.12"
  }
 },
 "nbformat": 4,
 "nbformat_minor": 5
}
