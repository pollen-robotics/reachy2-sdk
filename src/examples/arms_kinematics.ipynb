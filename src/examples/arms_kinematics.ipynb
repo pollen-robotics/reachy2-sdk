{
 "cells": [
  {
   "cell_type": "code",
   "execution_count": null,
   "id": "f2d8265b",
   "metadata": {},
   "outputs": [],
   "source": [
    "from reachy2_sdk import ReachySDK\n",
    "import time"
   ]
  },
  {
   "cell_type": "markdown",
   "id": "923aca0f",
   "metadata": {},
   "source": [
    "### Connect to your robot"
   ]
  },
  {
   "cell_type": "code",
   "execution_count": null,
   "id": "a0c2d4ab",
   "metadata": {},
   "outputs": [],
   "source": [
    "reachy = ReachySDK('192.168.1.42')  # set your robot's IP address here\n",
    "reachy.turn_on()"
   ]
  },
  {
   "cell_type": "markdown",
   "id": "edf24ed3",
   "metadata": {},
   "source": [
    "### Check arm joints"
   ]
  },
  {
   "cell_type": "code",
   "execution_count": null,
   "id": "f135ac9a",
   "metadata": {},
   "outputs": [],
   "source": [
    "reachy.r_arm.joints"
   ]
  },
  {
   "cell_type": "code",
   "execution_count": null,
   "id": "33b015e6",
   "metadata": {},
   "outputs": [],
   "source": [
    "reachy.l_arm.joints"
   ]
  },
  {
   "cell_type": "markdown",
   "id": "b9402c92",
   "metadata": {},
   "source": [
    "### Read arm joints positions"
   ]
  },
  {
   "cell_type": "code",
   "execution_count": null,
   "id": "6744e69c",
   "metadata": {},
   "outputs": [],
   "source": [
    "reachy.r_arm.get_joints_positions()"
   ]
  },
  {
   "cell_type": "code",
   "execution_count": null,
   "id": "ed014768",
   "metadata": {},
   "outputs": [],
   "source": [
    "reachy.l_arm.get_joints_positions()"
   ]
  },
  {
   "cell_type": "markdown",
   "id": "58ee1529",
   "metadata": {},
   "source": [
    "### Turn on arms"
   ]
  },
  {
   "cell_type": "code",
   "execution_count": null,
   "id": "3c513e13",
   "metadata": {},
   "outputs": [],
   "source": [
    "reachy.r_arm.turn_on()\n",
    "reachy.l_arm.turn_on()"
   ]
  },
  {
   "cell_type": "markdown",
   "id": "f2bb6457",
   "metadata": {},
   "source": [
    "#### Check arms are on"
   ]
  },
  {
   "cell_type": "code",
   "execution_count": null,
   "id": "354eae56",
   "metadata": {},
   "outputs": [],
   "source": [
    "print(reachy.r_arm.is_on())\n",
    "print(reachy.l_arm.is_on())"
   ]
  },
  {
   "cell_type": "markdown",
   "id": "c49deace",
   "metadata": {},
   "source": [
    "### Turn off arms"
   ]
  },
  {
   "cell_type": "code",
   "execution_count": null,
   "id": "5119cbae",
   "metadata": {},
   "outputs": [],
   "source": [
    "reachy.r_arm.turn_off()\n",
    "reachy.l_arm.turn_off()"
   ]
  },
  {
   "cell_type": "markdown",
   "id": "45a85811",
   "metadata": {},
   "source": [
    "### Check arms are off"
   ]
  },
  {
   "cell_type": "code",
   "execution_count": null,
   "id": "4a825e47",
   "metadata": {},
   "outputs": [],
   "source": [
    "print(reachy.r_arm.is_off())\n",
    "print(reachy.l_arm.is_off())"
   ]
  },
  {
   "cell_type": "markdown",
   "id": "b966a8a6",
   "metadata": {},
   "source": [
    "### Arms `goto_joints()` method"
   ]
  },
  {
   "cell_type": "markdown",
   "id": "0a5a3cf5",
   "metadata": {},
   "source": [
    "Define a joints positions list"
   ]
  },
  {
   "cell_type": "code",
   "execution_count": null,
   "id": "1eb4d748",
   "metadata": {},
   "outputs": [],
   "source": [
    "right_angled_pose = [0, 0, 0, -90, 0, 0, 0]"
   ]
  },
  {
   "cell_type": "markdown",
   "id": "7ce160b9",
   "metadata": {},
   "source": [
    "Send the joints goal positions to the arm"
   ]
  },
  {
   "cell_type": "code",
   "execution_count": null,
   "id": "1ecd0843",
   "metadata": {},
   "outputs": [],
   "source": [
    "reachy.r_arm.goto_joints(right_angled_pose)\n",
    "reachy.l_arm.goto_joints(right_angled_pose)"
   ]
  },
  {
   "cell_type": "markdown",
   "id": "cc2bf8b1",
   "metadata": {},
   "source": [
    "Set back the robot in zero pose"
   ]
  },
  {
   "cell_type": "code",
   "execution_count": null,
   "id": "394831ec",
   "metadata": {},
   "outputs": [],
   "source": [
    "reachy.set_pose('zero')"
   ]
  },
  {
   "cell_type": "markdown",
   "id": "d7630f64",
   "metadata": {},
   "source": [
    "#### Custom duration \n",
    "\n",
    "Specify a value in seconds to the duration argument to choose your moves durations. Default duration value in 2 seconds"
   ]
  },
  {
   "cell_type": "code",
   "execution_count": null,
   "id": "69fd38c7",
   "metadata": {},
   "outputs": [],
   "source": [
    "reachy.r_arm.goto_joints(right_angled_pose,)  # default duration is 2 seconds\n",
    "reachy.l_arm.goto_joints(right_angled_pose, duration=3)\n",
    "\n",
    "reachy.set_pose('zero')"
   ]
  },
  {
   "cell_type": "markdown",
   "id": "1eaf0d4e",
   "metadata": {},
   "source": [
    "#### Custom interpolation mode\n",
    "\n",
    "Specify one of 'linear' or 'minimum_jerk' interpolation_mode argument to choose the interpolation mode you want to use. Default duration interpolation mode is 'minimum_jerk'."
   ]
  },
  {
   "cell_type": "code",
   "execution_count": null,
   "id": "2ec7e3dc",
   "metadata": {},
   "outputs": [],
   "source": [
    "reachy.r_arm.goto_joints(right_angled_pose, interpolation_mode='minimum_jerk')  # default\n",
    "reachy.l_arm.goto_joints(right_angled_pose, interpolation_mode='linear')\n",
    "\n",
    "# We could have written:\n",
    "# reachy.r_arm.goto_joints(right_angled_pose)\n",
    "# reachy.l_arm.goto_joints(right_angled_pose, interpolation_mode='linear')\n",
    "# to have the same result"
   ]
  },
  {
   "cell_type": "markdown",
   "id": "230cd71c",
   "metadata": {},
   "source": [
    "### Advanced `goto_joints()` example"
   ]
  },
  {
   "cell_type": "code",
   "execution_count": null,
   "id": "e2513a18",
   "metadata": {},
   "outputs": [],
   "source": [
    "r_move = reachy.r_arm.goto_joints([0, 0, 0, -90, 0, 0, 0], duration=2)\n",
    "\n",
    "while not reachy.is_goto_finished(r_move):\n",
    "    time.sleep(0.1)\n",
    "\n",
    "reachy.l_arm.goto_joints([0, 0, 0, -90, 0, 0, 0], duration=2)\n",
    "time.sleep(1)\n",
    "\n",
    "reachy.home(wait_for_goto_end=False)"
   ]
  },
  {
   "cell_type": "code",
   "execution_count": null,
   "id": "cb57d5a8",
   "metadata": {},
   "outputs": [],
   "source": [
    "reachy.r_arm.goto_joints([0, 0, 0, -90, 0, 0, 0], duration=2)\n",
    "reachy.r_arm.goto_joints([0, 0, -20, -90, 0, 0, 0], duration=2, interpolation_mode='linear')\n",
    "reachy.l_arm.goto_joints([0, 0, 0, -90, 0, 0, 0], duration=3)\n",
    "\n",
    "reachy.home()"
   ]
  },
  {
   "cell_type": "code",
   "execution_count": null,
   "id": "93a17e38",
   "metadata": {},
   "outputs": [],
   "source": [
    "reachy.l_arm.gripper.close()\n",
    "time.sleep(1)\n",
    "reachy.l_arm.gripper.open()"
   ]
  },
  {
   "cell_type": "code",
   "execution_count": null,
   "id": "70f9fb46",
   "metadata": {},
   "outputs": [],
   "source": [
    "reachy.l_arm.forward_kinematics([0, 0, 0, -90, 0, 0, 0])"
   ]
  },
  {
   "cell_type": "code",
   "execution_count": null,
   "id": "368804d5",
   "metadata": {},
   "outputs": [],
   "source": [
    "reachy.l_arm.get_joints_positions()"
   ]
  },
  {
   "cell_type": "markdown",
   "id": "bbcc9e57",
   "metadata": {},
   "source": [
    "### Gripper control"
   ]
  },
  {
   "cell_type": "markdown",
   "id": "779ffbf1",
   "metadata": {},
   "source": []
  }
 ],
 "metadata": {
  "kernelspec": {
   "display_name": "Python 3 (ipykernel)",
   "language": "python",
   "name": "python3"
  },
  "language_info": {
   "codemirror_mode": {
    "name": "ipython",
    "version": 3
   },
   "file_extension": ".py",
   "mimetype": "text/x-python",
   "name": "python",
   "nbconvert_exporter": "python",
   "pygments_lexer": "ipython3",
   "version": "3.10.12"
  }
 },
 "nbformat": 4,
 "nbformat_minor": 5
}
