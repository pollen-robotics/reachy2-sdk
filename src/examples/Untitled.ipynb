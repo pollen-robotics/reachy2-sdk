{
 "cells": [
  {
   "cell_type": "code",
   "execution_count": 1,
   "id": "494c7630",
   "metadata": {},
   "outputs": [],
   "source": [
    "from reachy2_sdk import ReachySDK\n",
    "import time"
   ]
  },
  {
   "cell_type": "code",
   "execution_count": 2,
   "id": "8042aa09",
   "metadata": {},
   "outputs": [],
   "source": [
    "reachy = ReachySDK('10.0.0.254')"
   ]
  },
  {
   "cell_type": "code",
   "execution_count": 3,
   "id": "0a41eb32",
   "metadata": {},
   "outputs": [
    {
     "data": {
      "text/plain": [
       "{'x': 0.0, 'y': 0.0, 'theta': 0.0, 'vx': 0.0, 'vy': 0.0, 'vtheta': 0.0}"
      ]
     },
     "execution_count": 3,
     "metadata": {},
     "output_type": "execute_result"
    }
   ],
   "source": [
    "reachy.mobile_base.odometry"
   ]
  },
  {
   "cell_type": "code",
   "execution_count": 35,
   "id": "efbe77b0",
   "metadata": {},
   "outputs": [],
   "source": [
    "reachy.connect()"
   ]
  },
  {
   "cell_type": "code",
   "execution_count": 8,
   "id": "48976bae",
   "metadata": {},
   "outputs": [
    {
     "name": "stdout",
     "output_type": "stream",
     "text": [
      "{'x': 0.727, 'y': 0.566, 'theta': 0.0, 'vx': 0.0, 'vy': 0.0, 'vtheta': 0.0}\n",
      "{'x': 0.727, 'y': 0.566, 'theta': 0.0, 'vx': 0.0, 'vy': 0.0, 'vtheta': 0.0}\n",
      "{'x': 0.727, 'y': 0.566, 'theta': 0.0, 'vx': 0.0, 'vy': 0.0, 'vtheta': 0.0}\n",
      "{'x': 0.727, 'y': 0.566, 'theta': 0.0, 'vx': 0.0, 'vy': 0.0, 'vtheta': 0.0}\n",
      "{'x': 0.727, 'y': 0.566, 'theta': 0.0, 'vx': 0.0, 'vy': 0.0, 'vtheta': 0.0}\n",
      "{'x': 0.727, 'y': 0.566, 'theta': 0.0, 'vx': 0.0, 'vy': 0.0, 'vtheta': 0.0}\n",
      "{'x': 0.727, 'y': 0.566, 'theta': 0.0, 'vx': 0.0, 'vy': 0.0, 'vtheta': 0.0}\n",
      "{'x': 0.727, 'y': 0.566, 'theta': 0.0, 'vx': 0.0, 'vy': 0.0, 'vtheta': 0.0}\n",
      "{'x': 0.727, 'y': 0.566, 'theta': 0.0, 'vx': 0.0, 'vy': 0.0, 'vtheta': 0.0}\n",
      "{'x': 0.727, 'y': 0.566, 'theta': 0.0, 'vx': 0.0, 'vy': 0.0, 'vtheta': 0.0}\n",
      "{'x': 0.727, 'y': 0.566, 'theta': 0.0, 'vx': 0.0, 'vy': 0.0, 'vtheta': 0.0}\n",
      "{'x': 0.727, 'y': 0.566, 'theta': 0.0, 'vx': 0.0, 'vy': 0.0, 'vtheta': 0.0}\n",
      "{'x': 0.729, 'y': 0.567, 'theta': 0.0, 'vx': -0.039, 'vy': -0.022, 'vtheta': -6.504}\n",
      "{'x': 0.731, 'y': 0.568, 'theta': 0.0, 'vx': -0.009, 'vy': -0.005, 'vtheta': -1.501}\n",
      "{'x': 0.729, 'y': 0.57, 'theta': 0.0, 'vx': 0.022, 'vy': -0.015, 'vtheta': -4.288}\n",
      "{'x': 0.728, 'y': 0.571, 'theta': 0.0, 'vx': 0.005, 'vy': -0.003, 'vtheta': -0.786}\n",
      "{'x': 0.728, 'y': 0.571, 'theta': 0.0, 'vx': 0.001, 'vy': -0.0, 'vtheta': -0.143}\n",
      "{'x': 0.725, 'y': 0.57, 'theta': 0.0, 'vx': 0.024, 'vy': 0.007, 'vtheta': -7.076}\n",
      "{'x': 0.724, 'y': 0.569, 'theta': 0.0, 'vx': 0.006, 'vy': 0.002, 'vtheta': -1.644}\n",
      "{'x': 0.724, 'y': 0.569, 'theta': 0.0, 'vx': 0.001, 'vy': 0.0, 'vtheta': -0.286}\n",
      "{'x': 0.721, 'y': 0.571, 'theta': 0.0, 'vx': 0.019, 'vy': -0.011, 'vtheta': -3.216}\n",
      "{'x': 0.72, 'y': 0.569, 'theta': 0.0, 'vx': 0.003, 'vy': 0.039, 'vtheta': -6.575}\n",
      "{'x': 0.718, 'y': 0.569, 'theta': 0.0, 'vx': 0.04, 'vy': -0.013, 'vtheta': -8.148}\n",
      "{'x': 0.714, 'y': 0.567, 'theta': 0.0, 'vx': 0.052, 'vy': -0.008, 'vtheta': -12.079}\n",
      "{'x': 0.71, 'y': 0.565, 'theta': 0.0, 'vx': 0.054, 'vy': -0.001, 'vtheta': -13.437}\n",
      "{'x': 0.707, 'y': 0.562, 'theta': 0.0, 'vx': 0.01, 'vy': 0.026, 'vtheta': -6.361}\n",
      "{'x': 0.706, 'y': 0.561, 'theta': 0.0, 'vx': 0.002, 'vy': 0.006, 'vtheta': -1.429}\n",
      "{'x': 0.706, 'y': 0.56, 'theta': 0.0, 'vx': 0.0, 'vy': 0.001, 'vtheta': -0.286}\n",
      "{'x': 0.706, 'y': 0.56, 'theta': 0.0, 'vx': 0.0, 'vy': 0.0, 'vtheta': 0.0}\n",
      "{'x': 0.706, 'y': 0.56, 'theta': 0.0, 'vx': 0.0, 'vy': 0.0, 'vtheta': 0.0}\n",
      "{'x': 0.706, 'y': 0.56, 'theta': 0.0, 'vx': 0.0, 'vy': 0.0, 'vtheta': 0.0}\n",
      "{'x': 0.705, 'y': 0.558, 'theta': 0.0, 'vx': 0.0, 'vy': 0.05, 'vtheta': -7.362}\n",
      "{'x': 0.705, 'y': 0.556, 'theta': 0.0, 'vx': 0.0, 'vy': 0.012, 'vtheta': -1.715}\n",
      "{'x': 0.705, 'y': 0.555, 'theta': 0.0, 'vx': 0.0, 'vy': 0.002, 'vtheta': -0.357}\n",
      "{'x': 0.705, 'y': 0.555, 'theta': 0.0, 'vx': 0.0, 'vy': 0.0, 'vtheta': -0.071}\n",
      "{'x': 0.703, 'y': 0.557, 'theta': 0.0, 'vx': 0.033, 'vy': -0.019, 'vtheta': -5.646}\n",
      "{'x': 0.701, 'y': 0.558, 'theta': 0.0, 'vx': 0.005, 'vy': -0.003, 'vtheta': -0.858}\n",
      "{'x': 0.701, 'y': 0.558, 'theta': 0.0, 'vx': 0.001, 'vy': -0.0, 'vtheta': -0.143}\n",
      "{'x': 0.701, 'y': 0.558, 'theta': 0.0, 'vx': 0.0, 'vy': 0.0, 'vtheta': 0.0}\n",
      "{'x': 0.701, 'y': 0.558, 'theta': 0.0, 'vx': 0.0, 'vy': 0.0, 'vtheta': 0.0}\n",
      "{'x': 0.701, 'y': 0.558, 'theta': 0.0, 'vx': 0.0, 'vy': 0.0, 'vtheta': 0.0}\n",
      "{'x': 0.701, 'y': 0.558, 'theta': 0.0, 'vx': 0.0, 'vy': 0.0, 'vtheta': 0.0}\n",
      "{'x': 0.701, 'y': 0.558, 'theta': 0.0, 'vx': 0.0, 'vy': 0.0, 'vtheta': 0.0}\n",
      "{'x': 0.701, 'y': 0.558, 'theta': 0.0, 'vx': 0.0, 'vy': 0.0, 'vtheta': 0.0}\n",
      "{'x': 0.701, 'y': 0.558, 'theta': 0.0, 'vx': 0.0, 'vy': 0.0, 'vtheta': 0.0}\n",
      "{'x': 0.701, 'y': 0.558, 'theta': 0.0, 'vx': 0.0, 'vy': 0.0, 'vtheta': 0.0}\n",
      "{'x': 0.701, 'y': 0.558, 'theta': 0.0, 'vx': 0.0, 'vy': 0.0, 'vtheta': 0.0}\n",
      "{'x': 0.701, 'y': 0.558, 'theta': 0.0, 'vx': 0.0, 'vy': 0.0, 'vtheta': 0.0}\n",
      "{'x': 0.701, 'y': 0.558, 'theta': 0.0, 'vx': 0.0, 'vy': 0.0, 'vtheta': 0.0}\n",
      "{'x': 0.701, 'y': 0.558, 'theta': 0.0, 'vx': 0.0, 'vy': 0.0, 'vtheta': 0.0}\n",
      "{'x': 0.701, 'y': 0.558, 'theta': 0.0, 'vx': 0.0, 'vy': 0.0, 'vtheta': 0.0}\n",
      "{'x': 0.701, 'y': 0.558, 'theta': 0.0, 'vx': 0.0, 'vy': 0.0, 'vtheta': 0.0}\n",
      "{'x': 0.701, 'y': 0.558, 'theta': 0.0, 'vx': 0.0, 'vy': 0.0, 'vtheta': 0.0}\n",
      "{'x': 0.701, 'y': 0.558, 'theta': 0.0, 'vx': 0.0, 'vy': 0.0, 'vtheta': 0.0}\n",
      "{'x': 0.701, 'y': 0.558, 'theta': 0.0, 'vx': 0.0, 'vy': 0.0, 'vtheta': 0.0}\n",
      "{'x': 0.701, 'y': 0.558, 'theta': 0.0, 'vx': 0.0, 'vy': 0.0, 'vtheta': 0.0}\n",
      "{'x': 0.701, 'y': 0.558, 'theta': 0.0, 'vx': 0.0, 'vy': 0.0, 'vtheta': 0.0}\n",
      "{'x': 0.701, 'y': 0.558, 'theta': 0.0, 'vx': 0.0, 'vy': 0.0, 'vtheta': 0.0}\n",
      "{'x': 0.701, 'y': 0.558, 'theta': 0.0, 'vx': 0.0, 'vy': 0.0, 'vtheta': 0.0}\n",
      "{'x': 0.701, 'y': 0.558, 'theta': 0.0, 'vx': 0.0, 'vy': 0.0, 'vtheta': 0.0}\n",
      "{'x': 0.701, 'y': 0.558, 'theta': 0.0, 'vx': 0.0, 'vy': 0.0, 'vtheta': 0.0}\n",
      "{'x': 0.701, 'y': 0.558, 'theta': 0.0, 'vx': 0.0, 'vy': 0.0, 'vtheta': 0.0}\n",
      "{'x': 0.701, 'y': 0.558, 'theta': 0.0, 'vx': 0.0, 'vy': 0.0, 'vtheta': 0.0}\n",
      "{'x': 0.701, 'y': 0.558, 'theta': 0.0, 'vx': 0.0, 'vy': 0.0, 'vtheta': 0.0}\n",
      "{'x': 0.701, 'y': 0.558, 'theta': 0.0, 'vx': 0.0, 'vy': 0.0, 'vtheta': 0.0}\n",
      "{'x': 0.701, 'y': 0.558, 'theta': 0.0, 'vx': 0.0, 'vy': 0.0, 'vtheta': 0.0}\n",
      "{'x': 0.701, 'y': 0.558, 'theta': 0.0, 'vx': 0.0, 'vy': 0.0, 'vtheta': 0.0}\n",
      "{'x': 0.701, 'y': 0.558, 'theta': 0.0, 'vx': 0.0, 'vy': 0.0, 'vtheta': 0.0}\n",
      "{'x': 0.701, 'y': 0.558, 'theta': 0.0, 'vx': 0.0, 'vy': 0.0, 'vtheta': 0.0}\n"
     ]
    }
   ],
   "source": [
    "start = time.time()\n",
    "\n",
    "while time.time()-start < 7:\n",
    "    print(reachy.mobile_base.odometry)\n",
    "    time.sleep(0.1)"
   ]
  },
  {
   "cell_type": "code",
   "execution_count": 9,
   "id": "fd271ed6",
   "metadata": {},
   "outputs": [
    {
     "data": {
      "text/plain": [
       "True"
      ]
     },
     "execution_count": 9,
     "metadata": {},
     "output_type": "execute_result"
    }
   ],
   "source": [
    "reachy.turn_off()"
   ]
  },
  {
   "cell_type": "code",
   "execution_count": null,
   "id": "d3b139e1",
   "metadata": {},
   "outputs": [],
   "source": []
  }
 ],
 "metadata": {
  "kernelspec": {
   "display_name": "Python 3 (ipykernel)",
   "language": "python",
   "name": "python3"
  },
  "language_info": {
   "codemirror_mode": {
    "name": "ipython",
    "version": 3
   },
   "file_extension": ".py",
   "mimetype": "text/x-python",
   "name": "python",
   "nbconvert_exporter": "python",
   "pygments_lexer": "ipython3",
   "version": "3.10.12"
  }
 },
 "nbformat": 4,
 "nbformat_minor": 5
}
