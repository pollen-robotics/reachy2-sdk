{
 "cells": [
  {
   "attachments": {},
   "cell_type": "markdown",
   "id": "0",
   "metadata": {},
   "source": [
    "# Arm and Gripper"
   ]
  },
  {
   "attachments": {},
   "cell_type": "markdown",
   "id": "1",
   "metadata": {},
   "source": [
    "In the previous tutorial, we explored the concept of *moves* and basic control. Now, let's delve deeper into what we can do with Reachy's arms and grippers."
   ]
  },
  {
   "attachments": {},
   "cell_type": "markdown",
   "id": "2",
   "metadata": {},
   "source": [
    "## Initialize Your Robot"
   ]
  },
  {
   "attachments": {},
   "cell_type": "markdown",
   "id": "3",
   "metadata": {},
   "source": [
    "First, connect to your robot:"
   ]
  },
  {
   "cell_type": "code",
   "execution_count": null,
   "id": "4",
   "metadata": {},
   "outputs": [],
   "source": [
    "from reachy2_sdk import ReachySDK\n",
    "import time\n",
    "\n",
    "reachy = ReachySDK(host='localhost')  # Replace with the actual IP"
   ]
  },
  {
   "attachments": {},
   "cell_type": "markdown",
   "id": "5",
   "metadata": {},
   "source": [
    "Next, we need to turn on the parts we want to use:"
   ]
  },
  {
   "cell_type": "code",
   "execution_count": null,
   "id": "6",
   "metadata": {},
   "outputs": [],
   "source": [
    "reachy.l_arm.turn_on()\n",
    "reachy.r_arm.turn_on()"
   ]
  },
  {
   "attachments": {},
   "cell_type": "markdown",
   "id": "7",
   "metadata": {},
   "source": [
    "Since the grippers are part of the arms, they will also be turned on. You could, of course, turn on the whole robot by calling `reachy.turn_on()` directly.\n",
    "Let's check if the arms are on:"
   ]
  },
  {
   "cell_type": "code",
   "execution_count": null,
   "id": "8",
   "metadata": {},
   "outputs": [],
   "source": [
    "print(reachy.r_arm.is_on())\n",
    "print(reachy.l_arm.is_on())"
   ]
  },
  {
   "attachments": {},
   "cell_type": "markdown",
   "id": "9",
   "metadata": {},
   "source": [
    "## Check Arm Joints"
   ]
  },
  {
   "attachments": {},
   "cell_type": "markdown",
   "id": "10",
   "metadata": {},
   "source": [
    "Reachy's arm offers 7 degrees of freedom. It also gives access to one joint for the gripper.\n",
    "The arm is divided as follow:\n",
    "- shoulder, composed of 2 joints (pitch and roll)\n",
    "- elbow, composed of 2 joints (yaw and pitch)\n",
    "- wrist, composed of 3 joints (roll, pitch and yaw)\n",
    "\n",
    "We refer to the shoulder, elbow and wrist as actuators.\n",
    "For some actions, such as changing the compliancy, is the the lowest level of control you will have.\n",
    "\n",
    "You can inspect the details of the arm with:"
   ]
  },
  {
   "cell_type": "code",
   "execution_count": null,
   "id": "11",
   "metadata": {},
   "outputs": [],
   "source": [
    "reachy.r_arm.joints"
   ]
  },
  {
   "cell_type": "code",
   "execution_count": null,
   "id": "12",
   "metadata": {},
   "outputs": [],
   "source": [
    "reachy.l_arm.joints"
   ]
  },
  {
   "attachments": {},
   "cell_type": "markdown",
   "id": "13",
   "metadata": {},
   "source": [
    "You can easily access the position of each joint in one call with `get_joint_positions()`"
   ]
  },
  {
   "cell_type": "code",
   "execution_count": null,
   "id": "14",
   "metadata": {},
   "outputs": [],
   "source": [
    "reachy.r_arm.get_joints_positions()"
   ]
  },
  {
   "cell_type": "code",
   "execution_count": null,
   "id": "15",
   "metadata": {},
   "outputs": [],
   "source": [
    "reachy.l_arm.get_joints_positions()"
   ]
  },
  {
   "attachments": {},
   "cell_type": "markdown",
   "id": "16",
   "metadata": {},
   "source": [
    "## Move the Arms"
   ]
  },
  {
   "attachments": {},
   "cell_type": "markdown",
   "id": "17",
   "metadata": {},
   "source": [
    "The simplest way to move an arm is to set the angle of each joint. Define a joint positions list:"
   ]
  },
  {
   "cell_type": "code",
   "execution_count": null,
   "id": "18",
   "metadata": {},
   "outputs": [],
   "source": [
    "elbow_at_90_deg = [0, 0, 0, -90, 0, 0, 0] # only the elbow is set"
   ]
  },
  {
   "attachments": {},
   "cell_type": "markdown",
   "id": "19",
   "metadata": {},
   "source": [
    "Send the joint goal positions to the arm with `goto_joints()`"
   ]
  },
  {
   "cell_type": "code",
   "execution_count": null,
   "id": "20",
   "metadata": {},
   "outputs": [],
   "source": [
    "reachy.r_arm.goto_joints(elbow_at_90_deg)\n",
    "reachy.l_arm.goto_joints(elbow_at_90_deg)\n",
    "while reachy.r_arm.get_move_playing().id != -1:\n",
    "    time.sleep(0.5)"
   ]
  },
  {
   "attachments": {},
   "cell_type": "markdown",
   "id": "21",
   "metadata": {},
   "source": [
    "In order to easily move a single joint, we can use the `goto()` method on a given joint:"
   ]
  },
  {
   "cell_type": "code",
   "execution_count": null,
   "id": "22",
   "metadata": {},
   "outputs": [],
   "source": [
    "reachy.r_arm.elbow.pitch.goto(0)\n",
    "\n",
    "while reachy.r_arm.get_move_playing().id != -1:\n",
    "    time.sleep(0.5)"
   ]
  },
  {
   "attachments": {},
   "cell_type": "markdown",
   "id": "23",
   "metadata": {},
   "source": [
    "This method works exactly like a move on the part. All gotos sent to joints are stacked on the part they belong to.\n",
    "For example:"
   ]
  },
  {
   "cell_type": "code",
   "execution_count": null,
   "id": "24",
   "metadata": {},
   "outputs": [],
   "source": [
    "part_move_id = reachy.r_arm.goto_joints([-10, -15, -15, -90, 0, 0, 0])\n",
    "joint_move_id = reachy.r_arm.elbow.pitch.goto(0)\n",
    "\n",
    "print(part_move_id)\n",
    "print(joint_move_id)\n",
    "\n",
    "print(reachy.r_arm.get_moves_queue())"
   ]
  },
  {
   "attachments": {},
   "cell_type": "markdown",
   "id": "25",
   "metadata": {},
   "source": [
    "`reachy.r_arm.elbow.pitch.goto(0)` command is stacked in r_arm moves queue.\n",
    "The move on the elbow will be played when the previous command sent using `goto_joints()` will be over."
   ]
  },
  {
   "attachments": {},
   "cell_type": "markdown",
   "id": "26",
   "metadata": {},
   "source": [
    "The arms should have moved in a way similar to what we saw in the [move tutorial](moves_introduction.ipynb). You already know that you can specify the duration or the interpolation mode of this kind of movement.\n",
    "\n",
    "We've only seen movements expressed in the 'joint space', i.e., defined by a set of angles. How can we know the position of the gripper in space, or how can we reach an object for which we know its position? That's where kinematics come in."
   ]
  },
  {
   "attachments": {},
   "cell_type": "markdown",
   "id": "27",
   "metadata": {},
   "source": [
    "## Kinematics"
   ]
  },
  {
   "attachments": {},
   "cell_type": "markdown",
   "id": "28",
   "metadata": {},
   "source": [
    "The kinematic model describes the motion of a robot in mathematical form without considering the forces and torque affecting it. It only focuses on the geometric relationship between elements.\n",
    "\n",
    "We have defined the whole kinematic model of the arm. This means the translation and rotation required to go from one joint to the next one. \n",
    "\n",
    "[Long story](https://docs.pollen-robotics.com/sdk/first-moves/kinematics/) short, there are two types of kinematics:\n",
    "- Forward kinematics: from the joints position, the position in space of the gripper is computed\n",
    "- Inverse kinematics: from a given position of the gripper to reach, all joints positions are computed"
   ]
  },
  {
   "attachments": {},
   "cell_type": "markdown",
   "id": "29",
   "metadata": {},
   "source": [
    "### Forward Kinematics"
   ]
  },
  {
   "attachments": {},
   "cell_type": "markdown",
   "id": "30",
   "metadata": {},
   "source": [
    "Each arm has a `forward_kinematics` method that computes a 4x4 pose matrix (position and orientation of the gripper in space). For instance, the previous movement left the left elbow at 90°. The position of the gripper is:"
   ]
  },
  {
   "cell_type": "code",
   "execution_count": null,
   "id": "31",
   "metadata": {},
   "outputs": [],
   "source": [
    "reachy.l_arm.forward_kinematics()"
   ]
  },
  {
   "attachments": {},
   "cell_type": "markdown",
   "id": "32",
   "metadata": {},
   "source": [
    "It is not mandatory to move the arm to compute forward kinematics. This can be done for any set of joint positions such as:"
   ]
  },
  {
   "cell_type": "code",
   "execution_count": null,
   "id": "33",
   "metadata": {},
   "outputs": [],
   "source": [
    "reachy.l_arm.forward_kinematics([10, 0, 0, -90, 0, 0, 0])"
   ]
  },
  {
   "attachments": {},
   "cell_type": "markdown",
   "id": "34",
   "metadata": {},
   "source": [
    "Reachy didn't move, but you know where it would have gone with an additional 10° applied to the shoulder joint."
   ]
  },
  {
   "attachments": {},
   "cell_type": "markdown",
   "id": "35",
   "metadata": {},
   "source": [
    "### Inverse Kinematics"
   ]
  },
  {
   "attachments": {},
   "cell_type": "markdown",
   "id": "36",
   "metadata": {},
   "source": [
    "Inverse kinematics works in the opposite way. Let's say you want to reach an object for which you know its position. What would be the set of joint positions to provide to `goto_joints`?"
   ]
  },
  {
   "cell_type": "code",
   "execution_count": null,
   "id": "37",
   "metadata": {},
   "outputs": [],
   "source": [
    "import numpy as np\n",
    "target = np.identity(4)\n",
    "target[0][3] = 0.4 # x\n",
    "target[1][3] = 0.1 # y\n",
    "target[2][3] = -0.3 # z\n",
    "target"
   ]
  },
  {
   "cell_type": "code",
   "execution_count": null,
   "id": "38",
   "metadata": {},
   "outputs": [],
   "source": [
    "joints_positions = reachy.l_arm.inverse_kinematics(target)\n",
    "joints_positions"
   ]
  },
  {
   "cell_type": "code",
   "execution_count": null,
   "id": "39",
   "metadata": {},
   "outputs": [],
   "source": [
    "reachy.l_arm.goto_joints(joints_positions)"
   ]
  },
  {
   "cell_type": "code",
   "execution_count": null,
   "id": "40",
   "metadata": {},
   "outputs": [],
   "source": [
    "reachy.set_pose(\"default\")\n",
    "reachy.l_arm.goto_from_matrix(target)"
   ]
  },
  {
   "attachments": {},
   "cell_type": "markdown",
   "id": "41",
   "metadata": {},
   "source": [
    "> All these moves are illustrated in [draw_square](draw_square.py). Check it out to see how to make Reachy draw a square with its right arm!"
   ]
  },
  {
   "attachments": {},
   "cell_type": "markdown",
   "id": "42",
   "metadata": {},
   "source": [
    "## Gripper Control"
   ]
  },
  {
   "attachments": {},
   "cell_type": "markdown",
   "id": "43",
   "metadata": {},
   "source": [
    "Finally, you may want to open or close a gripper to grab an object! Use the `close` or `open` method to do so:"
   ]
  },
  {
   "cell_type": "code",
   "execution_count": null,
   "id": "44",
   "metadata": {},
   "outputs": [],
   "source": [
    "reachy.l_arm.gripper.close()\n",
    "time.sleep(1)\n",
    "reachy.l_arm.gripper.open()"
   ]
  },
  {
   "attachments": {},
   "cell_type": "markdown",
   "id": "45",
   "metadata": {},
   "source": [
    "Of course, you can partially open the gripper, and get its current state:"
   ]
  },
  {
   "cell_type": "code",
   "execution_count": null,
   "id": "46",
   "metadata": {},
   "outputs": [],
   "source": [
    "reachy.l_arm.gripper.set_opening(55)\n",
    "time.sleep(1)\n",
    "reachy.l_arm.gripper.opening"
   ]
  },
  {
   "attachments": {},
   "cell_type": "markdown",
   "id": "47",
   "metadata": {},
   "source": [
    "# Set robot back to compliant mode"
   ]
  },
  {
   "cell_type": "code",
   "execution_count": null,
   "id": "48",
   "metadata": {},
   "outputs": [],
   "source": [
    "reachy.set_pose('default', duration=5)\n",
    "reachy.set_pose('default')\n",
    "while reachy.l_arm.get_move_playing().id != -1 or reachy.r_arm.get_move_playing().id != -1 or reachy.head.get_move_playing().id != -1:\n",
    "    time.sleep(0.5)\n",
    "    \n",
    "reachy.turn_off_smoothly()"
   ]
  },
  {
   "attachments": {},
   "cell_type": "markdown",
   "id": "49",
   "metadata": {},
   "source": []
  }
 ],
 "metadata": {
  "kernelspec": {
   "display_name": "Python 3 (ipykernel)",
   "language": "python",
   "name": "python3"
  },
  "language_info": {
   "codemirror_mode": {
    "name": "ipython",
    "version": 3
   },
   "file_extension": ".py",
   "mimetype": "text/x-python",
   "name": "python",
   "nbconvert_exporter": "python",
   "pygments_lexer": "ipython3",
   "version": "3.10.0"
  }
 },
 "nbformat": 4,
 "nbformat_minor": 5
}
