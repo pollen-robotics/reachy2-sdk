{
 "cells": [
  {
   "cell_type": "markdown",
   "id": "0c52fc2b",
   "metadata": {},
   "source": [
    "# Arm and Gripper"
   ]
  },
  {
   "cell_type": "markdown",
   "id": "3f89c050",
   "metadata": {},
   "source": [
    "In the previous tutorial, we explored the concept of *moves* and basic control. Now, let's delve deeper into what we can do with Reachy's arms and grippers."
   ]
  },
  {
   "cell_type": "markdown",
   "id": "1f35ddce",
   "metadata": {},
   "source": [
    "## Initialize Your Robot"
   ]
  },
  {
   "cell_type": "markdown",
   "id": "f226e41b",
   "metadata": {},
   "source": [
    "First, connect to your robot:"
   ]
  },
  {
   "cell_type": "code",
   "execution_count": null,
   "id": "f2d8265b",
   "metadata": {},
   "outputs": [],
   "source": [
    "from reachy2_sdk import ReachySDK\n",
    "import time\n",
    "\n",
    "reachy = ReachySDK(host='localhost')  # Replace with the actual IP"
   ]
  },
  {
   "cell_type": "markdown",
   "id": "923aca0f",
   "metadata": {},
   "source": [
    "Next, we need to turn on the parts we want to use:"
   ]
  },
  {
   "cell_type": "code",
   "execution_count": null,
   "id": "a0c2d4ab",
   "metadata": {},
   "outputs": [],
   "source": [
    "reachy.l_arm.turn_on()\n",
    "reachy.r_arm.turn_on()"
   ]
  },
  {
   "cell_type": "markdown",
   "id": "f0549ff9",
   "metadata": {},
   "source": [
    "Since the grippers are part of the arms, they will also be turned on. You could, of course, turn on the whole robot by calling `reachy.turn_on()` directly.\n",
    "Let's check if the arms are on:"
   ]
  },
  {
   "cell_type": "code",
   "execution_count": null,
   "id": "354eae56",
   "metadata": {},
   "outputs": [],
   "source": [
    "print(reachy.r_arm.is_on())\n",
    "print(reachy.l_arm.is_on())"
   ]
  },
  {
   "cell_type": "markdown",
   "id": "edf24ed3",
   "metadata": {},
   "source": [
    "## Check Arm Joints"
   ]
  },
  {
   "cell_type": "markdown",
   "id": "d24a569e",
   "metadata": {},
   "source": [
    "Reachy's arm offers 7 degrees of freedom. It also gives access to one joint for the gripper.\n",
    "The arm is divided as follow:\n",
    "- shoulder, composed of 2 joints (pitch and roll)\n",
    "- elbow, composed of 2 joints (yaw and pitch)\n",
    "- wrist, composed of 3 joints (roll, pitch and yaw)\n",
    "\n",
    "We refer to the shoulder, elbow and wrist as actuators.\n",
    "For some actions, such as changing the compliancy, is the the lowest level of control you will have.\n",
    "\n",
    "You can inspect the details of the arm with:"
   ]
  },
  {
   "cell_type": "code",
   "execution_count": null,
   "id": "38ab4fea",
   "metadata": {},
   "outputs": [],
   "source": [
    "reachy.r_arm.joints"
   ]
  },
  {
   "cell_type": "code",
   "execution_count": null,
   "id": "f9a91eed",
   "metadata": {},
   "outputs": [],
   "source": [
    "reachy.l_arm.joints"
   ]
  },
  {
   "cell_type": "markdown",
   "id": "729c9bb0",
   "metadata": {},
   "source": [
    "You can easily access the position of each joint in one call with `get_joint_positions()`"
   ]
  },
  {
   "cell_type": "code",
   "execution_count": null,
   "id": "6744e69c",
   "metadata": {},
   "outputs": [],
   "source": [
    "reachy.r_arm.get_joints_positions()"
   ]
  },
  {
   "cell_type": "code",
   "execution_count": null,
   "id": "ed014768",
   "metadata": {},
   "outputs": [],
   "source": [
    "reachy.l_arm.get_joints_positions()"
   ]
  },
  {
   "cell_type": "markdown",
   "id": "b966a8a6",
   "metadata": {},
   "source": [
    "## Move the Arms"
   ]
  },
  {
   "cell_type": "markdown",
   "id": "0a5a3cf5",
   "metadata": {},
   "source": [
    "The simplest way to move an arm is to set the angle of each joint. Define a joint positions list:"
   ]
  },
  {
   "cell_type": "code",
   "execution_count": null,
   "id": "1eb4d748",
   "metadata": {},
   "outputs": [],
   "source": [
    "elbow_at_90_deg = [0, 0, 0, -90, 0, 0, 0] # only the elbow is set"
   ]
  },
  {
   "cell_type": "markdown",
   "id": "7ce160b9",
   "metadata": {},
   "source": [
    "Send the joint goal positions to the arm with `goto_joints()`"
   ]
  },
  {
   "cell_type": "code",
   "execution_count": null,
   "id": "1ecd0843",
   "metadata": {},
   "outputs": [],
   "source": [
    "reachy.r_arm.goto_joints(elbow_at_90_deg)\n",
    "reachy.l_arm.goto_joints(elbow_at_90_deg)"
   ]
  },
  {
   "cell_type": "markdown",
   "id": "cc2bf8b1",
   "metadata": {},
   "source": [
    "The arms should have moved in a way similar to what we saw in the [move tutorial](moves_introduction.ipynb). You already know that you can specify the duration or the interpolation mode of this kind of movement.\n",
    "\n",
    "We've only seen movements expressed in the 'joint space', i.e., defined by a set of angles. How can we know the position of the gripper in space, or how can we reach an object for which we know its position? That's where kinematics come in."
   ]
  },
  {
   "cell_type": "markdown",
   "id": "6adc9be3",
   "metadata": {},
   "source": [
    "## Kinematics"
   ]
  },
  {
   "cell_type": "markdown",
   "id": "5f4bf763",
   "metadata": {},
   "source": [
    "The kinematic model describes the motion of a robot in mathematical form without considering the forces and torque affecting it. It only focuses on the geometric relationship between elements.\n",
    "\n",
    "We have defined the whole kinematic model of the arm. This means the translation and rotation required to go from one joint to the next one. \n",
    "\n",
    "[Long story](https://docs.pollen-robotics.com/sdk/first-moves/kinematics/) short, there are two types of kinematics:\n",
    "- Forward kinematics: from the joints position, the position in space of the gripper is computed\n",
    "- Inverse kinematics: from a given position of the gripper to reach, all joints positions are computed"
   ]
  },
  {
   "cell_type": "markdown",
   "id": "4fc61e8d",
   "metadata": {},
   "source": [
    "### Forward Kinematics"
   ]
  },
  {
   "cell_type": "markdown",
   "id": "e5ff1aa7",
   "metadata": {},
   "source": [
    "Each arm has a `forward_kinematics` method that computes a 4x4 pose matrix (position and orientation of the gripper in space). For instance, the previous movement left the left elbow at 90°. The position of the gripper is:"
   ]
  },
  {
   "cell_type": "code",
   "execution_count": null,
   "id": "70f9fb46",
   "metadata": {},
   "outputs": [],
   "source": [
    "reachy.l_arm.forward_kinematics()"
   ]
  },
  {
   "cell_type": "markdown",
   "id": "b7dc0089",
   "metadata": {},
   "source": [
    "It is not mandatory to move the arm to compute forward kinematics. This can be done for any set of joint positions such as:"
   ]
  },
  {
   "cell_type": "code",
   "execution_count": null,
   "id": "2fa7129a",
   "metadata": {},
   "outputs": [],
   "source": [
    "reachy.l_arm.forward_kinematics([10, 0, 0, -90, 0, 0, 0])"
   ]
  },
  {
   "cell_type": "markdown",
   "id": "4159b168",
   "metadata": {},
   "source": [
    "Reachy didn't move, but you know where it would have gone with an additional 10° applied to the shoulder joint."
   ]
  },
  {
   "cell_type": "markdown",
   "id": "8648377a",
   "metadata": {},
   "source": [
    "### Inverse Kinematics"
   ]
  },
  {
   "cell_type": "markdown",
   "id": "4b069dfb",
   "metadata": {},
   "source": [
    "Inverse kinematics works in the opposite way. Let's say you want to reach an object for which you know its position. What would be the set of joint positions to provide to `goto_joints`?"
   ]
  },
  {
   "cell_type": "code",
   "execution_count": null,
   "id": "e571145b",
   "metadata": {},
   "outputs": [],
   "source": [
    "import numpy as np\n",
    "target = np.identity(4)\n",
    "target[0][3] = 0.4\n",
    "target"
   ]
  },
  {
   "cell_type": "code",
   "execution_count": null,
   "id": "aac9de48",
   "metadata": {},
   "outputs": [],
   "source": [
    "joints_positions = reachy.l_arm.inverse_kinematics(target)\n",
    "joints_positions"
   ]
  },
  {
   "cell_type": "code",
   "execution_count": null,
   "id": "dbcb3083",
   "metadata": {},
   "outputs": [],
   "source": [
    "reachy.l_arm.goto_joints(joints_positions)"
   ]
  },
  {
   "cell_type": "code",
   "execution_count": null,
   "id": "b2315927",
   "metadata": {},
   "outputs": [],
   "source": [
    "reachy.set_pose(\"default\")\n",
    "reachy.l_arm.goto_from_matrix(target)"
   ]
  },
  {
   "cell_type": "markdown",
   "id": "fd037ff6",
   "metadata": {},
   "source": [
    "> All these moves are illustrated in [draw_square](draw_square.py). Check it out to see how to make Reachy draw a square with its right arm!"
   ]
  },
  {
   "cell_type": "markdown",
   "id": "bbcc9e57",
   "metadata": {},
   "source": [
    "## Gripper Control"
   ]
  },
  {
   "cell_type": "markdown",
   "id": "bbd3c88d",
   "metadata": {},
   "source": [
    "Finally, you may want to open or close a gripper to grab an object! Use the `close` or `open` method to do so:"
   ]
  },
  {
   "cell_type": "code",
   "execution_count": null,
   "id": "93a17e38",
   "metadata": {},
   "outputs": [],
   "source": [
    "reachy.l_arm.gripper.close()\n",
    "time.sleep(1)\n",
    "reachy.l_arm.gripper.open()"
   ]
  },
  {
   "cell_type": "markdown",
   "id": "1101041b",
   "metadata": {},
   "source": [
    "Of course, you can partially open the gripper, and get its current state:"
   ]
  },
  {
   "cell_type": "code",
   "execution_count": null,
   "id": "b7265c1a",
   "metadata": {},
   "outputs": [],
   "source": [
    "reachy.l_arm.gripper.set_opening(55)\n",
    "time.sleep(1)\n",
    "reachy.l_arm.gripper.opening"
   ]
  },
  {
   "cell_type": "markdown",
   "id": "a4fcb002",
   "metadata": {},
   "source": [
    "# Set robot back to compliant mode"
   ]
  },
  {
   "cell_type": "code",
   "execution_count": null,
   "id": "e9b97de0",
   "metadata": {},
   "outputs": [],
   "source": [
    "reachy.set_pose('default', duration=5)\n",
    "reachy.set_pose('default')\n",
    "while reachy.l_arm.get_move_playing().id != -1 or reachy.r_arm.get_move_playing().id != -1 or reachy.head.get_move_playing().id != -1:\n",
    "    time.sleep(0.5)\n",
    "    \n",
    "reachy.turn_off_smoothly()"
   ]
  },
  {
   "cell_type": "markdown",
   "id": "779ffbf1",
   "metadata": {},
   "source": []
  }
 ],
 "metadata": {
  "kernelspec": {
   "display_name": "Python 3 (ipykernel)",
   "language": "python",
   "name": "python3"
  },
  "language_info": {
   "codemirror_mode": {
    "name": "ipython",
    "version": 3
   },
   "file_extension": ".py",
   "mimetype": "text/x-python",
   "name": "python",
   "nbconvert_exporter": "python",
   "pygments_lexer": "ipython3",
   "version": "3.10.0"
  }
 },
 "nbformat": 4,
 "nbformat_minor": 5
}
